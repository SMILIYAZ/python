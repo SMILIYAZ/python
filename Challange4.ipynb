{
 "cells": [
  {
   "cell_type": "markdown",
   "id": "d0acb2ae",
   "metadata": {},
   "source": [
    "# 1Q"
   ]
  },
  {
   "cell_type": "code",
   "execution_count": null,
   "id": "68c7e2ac",
   "metadata": {},
   "outputs": [],
   "source": []
  },
  {
   "cell_type": "code",
   "execution_count": null,
   "id": "f7e71639",
   "metadata": {},
   "outputs": [],
   "source": []
  },
  {
   "cell_type": "code",
   "execution_count": 3,
   "id": "af6f05bf",
   "metadata": {},
   "outputs": [
    {
     "name": "stdout",
     "output_type": "stream",
     "text": [
      "{'anand', 'ashwini', 'anil'}\n",
      "{'ballu', 'bhavan', 'bhanumati', 'bani'}\n"
     ]
    }
   ],
   "source": [
    "list={'anil','ashwini','ballu','bani','anand','bhavan','bhanumati'}\n",
    "a_list=set()\n",
    "b_list=set()\n",
    "for x in list:\n",
    "    if x[0]=='a':\n",
    "        a_list.add(x)\n",
    "        \n",
    "    elif x [0]=='b':\n",
    "        b_list.add(x)\n",
    "        \n",
    "print(a_list)\n",
    "print(b_list)"
   ]
  },
  {
   "cell_type": "markdown",
   "id": "dd2cf73e",
   "metadata": {},
   "source": [
    "# 2Q"
   ]
  },
  {
   "cell_type": "code",
   "execution_count": 7,
   "id": "798e3bd4",
   "metadata": {},
   "outputs": [
    {
     "name": "stdout",
     "output_type": "stream",
     "text": [
      "Item        :     price\n",
      "Santoor soup    :    22.5\n",
      "Chik Shapoo    :    2.3\n",
      "No1 soup    :    23.4\n",
      "Exo Soup    :    5.2\n"
     ]
    }
   ],
   "source": [
    "i1=[(\"Santoor soup\",22.5),(\"Chik Shapoo\",2.3),(\"No1 soup\",23.4),(\"Exo Soup\",5.2)]\n",
    "print(\"Item        :     price\")\n",
    "for i in i1:\n",
    "    print(i[0],\"   :   \",i[1])"
   ]
  },
  {
   "cell_type": "markdown",
   "id": "099ea7a1",
   "metadata": {},
   "source": [
    "# 3Q"
   ]
  },
  {
   "cell_type": "code",
   "execution_count": 3,
   "id": "1648ca26",
   "metadata": {},
   "outputs": [
    {
     "name": "stdout",
     "output_type": "stream",
     "text": [
      "Enter a value\n",
      "1\n",
      "5\n",
      "8\n",
      "2\n",
      "4\n",
      "6\n",
      "3\n",
      "9\n",
      "0\n",
      "the sorted order is : \n",
      "1\n",
      "1\n",
      "2\n",
      "3\n",
      "4\n",
      "5\n",
      "6\n",
      "8\n",
      "9\n"
     ]
    }
   ],
   "source": [
    "value = 1\n",
    "List=[]\n",
    "print(\"Enter a value\")\n",
    "while(value != 0):\n",
    "    List.append(value)\n",
    "    value = int(input())\n",
    "temp = sorted(List)\n",
    "print(\"the sorted order is : \")\n",
    "for i in temp:\n",
    "    print(i)\n"
   ]
  },
  {
   "cell_type": "markdown",
   "id": "5a857bb4",
   "metadata": {},
   "source": [
    " "
   ]
  },
  {
   "cell_type": "markdown",
   "id": "38596d5a",
   "metadata": {},
   "source": [
    "# 4Q"
   ]
  },
  {
   "cell_type": "code",
   "execution_count": 6,
   "id": "3740ff28",
   "metadata": {},
   "outputs": [
    {
     "name": "stdout",
     "output_type": "stream",
     "text": [
      "Enter numbers separated by spaces:10\n",
      "You entered less than five values!\n"
     ]
    }
   ],
   "source": [
    "str_n=input(\"Enter numbers separated by spaces:\")\n",
    "number_str = str_n.split()\n",
    "num=[]\n",
    "ret=[]\n",
    "if len(number_str)>5:\n",
    "    for s in number_str:\n",
    "        num.append(int(s))\n",
    "    ret=num.copy()\n",
    "    del_list=num.copy()\n",
    "    del_list.sort()\n",
    "    for s in del_list[0:2]+del_list[-2:]:\n",
    "        ret.remove(s)\n",
    "    print(ret)\n",
    "    print(num)\n",
    "else:\n",
    "    print(\"You entered less than five values!\")"
   ]
  },
  {
   "cell_type": "markdown",
   "id": "c6272ffd",
   "metadata": {},
   "source": [
    "# 5Q"
   ]
  },
  {
   "cell_type": "code",
   "execution_count": 7,
   "id": "976d2832",
   "metadata": {},
   "outputs": [
    {
     "name": "stdout",
     "output_type": "stream",
     "text": [
      "Enter a word (blank line to quit): hello\n",
      "Enter a word (blank line to quit): \n",
      "hello\n"
     ]
    }
   ],
   "source": [
    "words = []\n",
    "\n",
    "word = input(\"Enter a word (blank line to quit): \")\n",
    "\n",
    "while word != \"\":\n",
    "    if word not in words:\n",
    "        words.append(word)\n",
    "        word = input(\"Enter a word (blank line to quit): \")\n",
    "\n",
    "for word in words:\n",
    "    print(word)"
   ]
  },
  {
   "cell_type": "markdown",
   "id": "d11b5928",
   "metadata": {},
   "source": [
    "# 6Q"
   ]
  },
  {
   "cell_type": "code",
   "execution_count": null,
   "id": "11f5d216",
   "metadata": {},
   "outputs": [],
   "source": [
    "print(\"Input some integers to calculate their average. Input 0 to exit.\")\n",
    "count = 0\n",
    "sum = 0.0\n",
    "number = 1\n",
    "while number != 0:\n",
    "    number + float(input(\"\"))\n",
    "sum += number\n",
    "count += 1\n",
    "if count ==0:\n",
    "    print(\"Input some number\")\n",
    "else:\n",
    "    print(\"Average of the above number are: \", sum / (count-1), sum)"
   ]
  },
  {
   "cell_type": "markdown",
   "id": "03b6ab5c",
   "metadata": {},
   "source": [
    "# 7Q"
   ]
  },
  {
   "cell_type": "code",
   "execution_count": 12,
   "id": "5096ef5c",
   "metadata": {},
   "outputs": [
    {
     "name": "stdout",
     "output_type": "stream",
     "text": [
      "{'two', 'one'}\n"
     ]
    }
   ],
   "source": [
    "determine = 'one one two two'\n",
    "unique_words = set(determine.split())\n",
    "print(unique_words)"
   ]
  },
  {
   "cell_type": "markdown",
   "id": "ca8672b4",
   "metadata": {},
   "source": []
  },
  {
   "cell_type": "code",
   "execution_count": null,
   "id": "e7122bfc",
   "metadata": {},
   "outputs": [],
   "source": []
  },
  {
   "cell_type": "markdown",
   "id": "63b229d0",
   "metadata": {},
   "source": [
    "# 9Q"
   ]
  },
  {
   "cell_type": "code",
   "execution_count": 50,
   "id": "cc7359b0",
   "metadata": {},
   "outputs": [
    {
     "name": "stdout",
     "output_type": "stream",
     "text": [
      "Enter number: 496\n",
      " true\n"
     ]
    }
   ],
   "source": [
    "def is_perfect(n):\n",
    "    perfect_sum = 0\n",
    "    for i in range(1,n):\n",
    "        if n%i==0:\n",
    "            perfect_sum += i\n",
    "    return perfect_sum == n\n",
    "number = int(input('Enter number: '))\n",
    "if is_perfect(number):\n",
    "    print(' true' )\n",
    "else:\n",
    "    print(' false' )\n",
    "\n"
   ]
  },
  {
   "cell_type": "code",
   "execution_count": null,
   "id": "f933a00f",
   "metadata": {},
   "outputs": [],
   "source": []
  },
  {
   "cell_type": "markdown",
   "id": "f8f8a46a",
   "metadata": {},
   "source": [
    "# 10Q"
   ]
  },
  {
   "cell_type": "code",
   "execution_count": 36,
   "id": "b05769de",
   "metadata": {},
   "outputs": [
    {
     "data": {
      "text/plain": [
       "['Theodore', 'Roxanne', 'Mathew', 'Betty']"
      ]
     },
     "execution_count": 36,
     "metadata": {},
     "output_type": "execute_result"
    }
   ],
   "source": [
    "def test(dict, val):\n",
    "    return list(key for key, value in dict.items() if value == val)\n",
    "students = {\n",
    "    'Theodore': 19,\n",
    "    'Roxanne': 20,\n",
    "    'Mathew': 21,\n",
    "    'Betty': 20\n",
    "}\n",
    "students_key = map(lambda x:x, students )\n",
    "list(students_key)\n"
   ]
  },
  {
   "cell_type": "code",
   "execution_count": 21,
   "id": "0e77d4ed",
   "metadata": {},
   "outputs": [
    {
     "data": {
      "text/plain": [
       "{'Theodore': 19, 'Roxanne': 20, 'Mathew': 21, 'Betty': 20}"
      ]
     },
     "execution_count": 21,
     "metadata": {},
     "output_type": "execute_result"
    }
   ],
   "source": [
    "students = {\n",
    "    'Theodore': 19,\n",
    "    'Roxanne': 20,\n",
    "    'Mathew': 21,\n",
    "    'Betty': 20\n",
    "}\n",
    "students"
   ]
  },
  {
   "cell_type": "code",
   "execution_count": 24,
   "id": "9130d751",
   "metadata": {},
   "outputs": [],
   "source": [
    "students_key = map(lambda x:x, students )"
   ]
  },
  {
   "cell_type": "code",
   "execution_count": 26,
   "id": "a7ce8b23",
   "metadata": {},
   "outputs": [
    {
     "data": {
      "text/plain": [
       "['Theodore', 'Roxanne', 'Mathew', 'Betty']"
      ]
     },
     "execution_count": 26,
     "metadata": {},
     "output_type": "execute_result"
    }
   ],
   "source": [
    "list(students_key)"
   ]
  },
  {
   "cell_type": "code",
   "execution_count": 31,
   "id": "1cb67808",
   "metadata": {},
   "outputs": [
    {
     "name": "stdout",
     "output_type": "stream",
     "text": [
      "enter the value'Theodore': 19\n",
      "{\"'Theodore': 19\"}\n"
     ]
    }
   ],
   "source": [
    "student={input(\"enter the value\")}\n",
    "students_key = map(lambda x:x, students )\n",
    "list(students_key)\n",
    "print(student)"
   ]
  },
  {
   "cell_type": "code",
   "execution_count": null,
   "id": "ba943ba2",
   "metadata": {},
   "outputs": [],
   "source": []
  },
  {
   "cell_type": "code",
   "execution_count": null,
   "id": "9013b106",
   "metadata": {},
   "outputs": [],
   "source": []
  }
 ],
 "metadata": {
  "kernelspec": {
   "display_name": "Python 3 (ipykernel)",
   "language": "python",
   "name": "python3"
  },
  "language_info": {
   "codemirror_mode": {
    "name": "ipython",
    "version": 3
   },
   "file_extension": ".py",
   "mimetype": "text/x-python",
   "name": "python",
   "nbconvert_exporter": "python",
   "pygments_lexer": "ipython3",
   "version": "3.11.4"
  }
 },
 "nbformat": 4,
 "nbformat_minor": 5
}
