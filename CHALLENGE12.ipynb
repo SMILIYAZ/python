{
 "cells": [
  {
   "cell_type": "markdown",
   "id": "493f13ac",
   "metadata": {},
   "source": [
    "# 1Q) Create a database called temp_db. Open a cursor to this newly created database & 2Q) In the database temp_db created in Q.No.1, create a table called emp with the attributes empno, ename, salary and deptno\\"
   ]
  },
  {
   "cell_type": "code",
   "execution_count": 72,
   "id": "5a314c6e",
   "metadata": {},
   "outputs": [],
   "source": [
    "import sqlite3\n",
    "def create_temp():\n",
    "    con = sqlite3.connect(\"temp_db.db\")\n",
    "    cur = con.cursor()\n",
    "    cur.execute(''' Create table emp (emp_no int,emp_Name Varchar(20), Dep_no Varchar(30), salary int)''')\n",
    "    con.commit()\n",
    "    con.close()"
   ]
  },
  {
   "cell_type": "code",
   "execution_count": null,
   "id": "02900d04",
   "metadata": {},
   "outputs": [],
   "source": [
    "create_temp()"
   ]
  },
  {
   "cell_type": "markdown",
   "id": "7167b6d2",
   "metadata": {},
   "source": [
    "# 3Q)In the emp table created in Q.No. 2, insert any five records."
   ]
  },
  {
   "cell_type": "code",
   "execution_count": 74,
   "id": "f9f3a905",
   "metadata": {},
   "outputs": [],
   "source": [
    "def Insert_emp(a,b,c,d):\n",
    "    con = sqlite3.connect(\"temp_db.db\")\n",
    "    cur = con.cursor()\n",
    "    cur.execute(''' Insert into emp values(?,?,?,?)''',(a,b,c,d))\n",
    "    con.commit()\n",
    "    con.close()"
   ]
  },
  {
   "cell_type": "code",
   "execution_count": 75,
   "id": "db73ea4f",
   "metadata": {},
   "outputs": [],
   "source": [
    "Insert_emp(101,'Mahesh','10',30000)\n",
    "Insert_emp(102,'Venkat','20',24000)\n",
    "Insert_emp(103,'Ramesh','30',14000)\n",
    "Insert_emp(104,'Sharat','40',16000)\n",
    "Insert_emp(105,'Anuska','50',20000)\n"
   ]
  },
  {
   "cell_type": "markdown",
   "id": "e236a2c7",
   "metadata": {},
   "source": [
    "# 4Q)From the emp table, display all the records."
   ]
  },
  {
   "cell_type": "code",
   "execution_count": 76,
   "id": "7d58d85a",
   "metadata": {},
   "outputs": [],
   "source": [
    "def Display_rec():\n",
    "    con = sqlite3.connect(\"temp_db.db\")\n",
    "    cur = con.cursor()\n",
    "    cur.execute('''Select * from emp''')\n",
    "    rows = cur.fetchall()\n",
    "    con.close()\n",
    "    return rows"
   ]
  },
  {
   "cell_type": "code",
   "execution_count": 77,
   "id": "debc7e0d",
   "metadata": {},
   "outputs": [
    {
     "name": "stdout",
     "output_type": "stream",
     "text": [
      "  E_no  E_Name   Dp_no  Salary\n",
      "===================================\n"
     ]
    },
    {
     "data": {
      "text/plain": [
       "[(101, 'Mahesh', '10', 30000),\n",
       " (102, 'Venkat', '20', 24000),\n",
       " (103, 'Ramesh', '30', 14000),\n",
       " (104, 'Sharat', '40', 16000),\n",
       " (105, 'Anuska', '50', 20000)]"
      ]
     },
     "execution_count": 77,
     "metadata": {},
     "output_type": "execute_result"
    }
   ],
   "source": [
    "print('  E_no',' E_Name','  Dp_no',' Salary')\n",
    "print('='*35,)\n",
    "Display_rec()"
   ]
  },
  {
   "cell_type": "markdown",
   "id": "9470632e",
   "metadata": {},
   "source": [
    "# 5QFrom the emp table, display the records of only those employees whose salary is greater than 15000 and who belong to deptno 10"
   ]
  },
  {
   "cell_type": "code",
   "execution_count": 78,
   "id": "dc0a23d0",
   "metadata": {},
   "outputs": [],
   "source": [
    "def Display_rec():\n",
    "    con = sqlite3.connect(\"temp_db.db\")\n",
    "    cur = con.cursor()\n",
    "    cur.execute('''Select * from emp where Salary > 15000''')\n",
    "    rows = cur.fetchall()\n",
    "    con.close()\n",
    "    return rows"
   ]
  },
  {
   "cell_type": "code",
   "execution_count": 79,
   "id": "24486981",
   "metadata": {},
   "outputs": [
    {
     "name": "stdout",
     "output_type": "stream",
     "text": [
      "Emp Salary who is > 15000\n",
      "-----------------------------------\n",
      "  E_no  E_Name   Dp_no  Salary\n",
      "===================================\n"
     ]
    },
    {
     "data": {
      "text/plain": [
       "[(101, 'Mahesh', '10', 30000),\n",
       " (102, 'Venkat', '20', 24000),\n",
       " (104, 'Sharat', '40', 16000),\n",
       " (105, 'Anuska', '50', 20000)]"
      ]
     },
     "execution_count": 79,
     "metadata": {},
     "output_type": "execute_result"
    }
   ],
   "source": [
    "print('Emp Salary who is > 15000')\n",
    "print('-'*35)\n",
    "print('  E_no',' E_Name','  Dp_no',' Salary')\n",
    "print('='*35,)\n",
    "Display_rec()"
   ]
  },
  {
   "cell_type": "markdown",
   "id": "97e02d59",
   "metadata": {},
   "source": [
    "# 6QFrom the emp table, display the records of only those employees whose salary lies between 20000 and 25000 and who do not belong to the deptno 10"
   ]
  },
  {
   "cell_type": "code",
   "execution_count": 82,
   "id": "2f9e39fe",
   "metadata": {},
   "outputs": [],
   "source": [
    "def Display_rec():\n",
    "    con = sqlite3.connect(\"temp_db.db\")\n",
    "    cur = con.cursor()\n",
    "    cur.execute('''Select * from emp where Salary BETWEEN 20000 AND 25000 AND dep_no !=10''')\n",
    "    rows = cur.fetchall()\n",
    "    con.close()\n",
    "    return rows"
   ]
  },
  {
   "cell_type": "code",
   "execution_count": 83,
   "id": "701a728e",
   "metadata": {},
   "outputs": [
    {
     "name": "stdout",
     "output_type": "stream",
     "text": [
      "Emp Salary who is < 25000\n",
      "-----------------------------------\n",
      "  E_no  E_Name   Dp_no  Salary\n",
      "===================================\n"
     ]
    },
    {
     "data": {
      "text/plain": [
       "[(102, 'Venkat', '20', 24000), (105, 'Anuska', '50', 20000)]"
      ]
     },
     "execution_count": 83,
     "metadata": {},
     "output_type": "execute_result"
    }
   ],
   "source": [
    "print('Emp Salary who is < 25000')\n",
    "print('-'*35)\n",
    "print('  E_no',' E_Name','  Dp_no',' Salary')\n",
    "print('='*35,)\n",
    "Display_rec()"
   ]
  },
  {
   "cell_type": "markdown",
   "id": "99a5b35b",
   "metadata": {},
   "source": [
    "# 7Q)From the emp table, display the records of only those employees whose name begins with M."
   ]
  },
  {
   "cell_type": "code",
   "execution_count": 84,
   "id": "d3ea9339",
   "metadata": {},
   "outputs": [],
   "source": [
    "def Display_rec():\n",
    "    con = sqlite3.connect(\"temp_db.db\")\n",
    "    cur = con.cursor()\n",
    "    cur.execute('''Select * from emp where emp_Name like  'M%' ''')\n",
    "    rows = cur.fetchall()\n",
    "    con.close()\n",
    "    return rows"
   ]
  },
  {
   "cell_type": "code",
   "execution_count": 85,
   "id": "0d1baed3",
   "metadata": {},
   "outputs": [
    {
     "name": "stdout",
     "output_type": "stream",
     "text": [
      "  E_no  E_Name   Dp_no  Salary\n",
      "===================================\n"
     ]
    },
    {
     "data": {
      "text/plain": [
       "[(101, 'Mahesh', '10', 30000)]"
      ]
     },
     "execution_count": 85,
     "metadata": {},
     "output_type": "execute_result"
    }
   ],
   "source": [
    "print('  E_no',' E_Name','  Dp_no',' Salary')\n",
    "print('='*35,)\n",
    "Display_rec()"
   ]
  },
  {
   "cell_type": "markdown",
   "id": "24dc8103",
   "metadata": {},
   "source": [
    "# 8Q)In the emp table, delete the records of those employees who belong to deptno 30"
   ]
  },
  {
   "cell_type": "code",
   "execution_count": 97,
   "id": "77766951",
   "metadata": {},
   "outputs": [],
   "source": [
    "def delete():\n",
    "    conn = sqlite3.connect('temp_db.db')\n",
    "    cur = conn.cursor()\n",
    "    cur.execute('DELETE FROM emp where dep_no = 30')\n",
    "    conn.commit()\n",
    "    conn.close()"
   ]
  },
  {
   "cell_type": "code",
   "execution_count": 98,
   "id": "e39a5b2d",
   "metadata": {},
   "outputs": [],
   "source": [
    "delete()"
   ]
  },
  {
   "cell_type": "markdown",
   "id": "169752cb",
   "metadata": {},
   "source": [
    "# 9Q)In the emp table, update the salary of an employee by 10 % by accepting the empno from the user."
   ]
  },
  {
   "cell_type": "code",
   "execution_count": 93,
   "id": "2282533c",
   "metadata": {},
   "outputs": [],
   "source": [
    "def update(emp_no):\n",
    "    conn = sqlite3.connect('temp_db.db')\n",
    "    cur = conn.cursor()\n",
    "    cur.execute(\"UPDATE emp SET salary=salary+(salary*10/100) where emp_no=?\",(emp_no,))\n",
    "    conn.commit()\n",
    "    conn.close()"
   ]
  },
  {
   "cell_type": "code",
   "execution_count": 94,
   "id": "ccb0cc01",
   "metadata": {},
   "outputs": [],
   "source": [
    "update(101)"
   ]
  },
  {
   "cell_type": "markdown",
   "id": "67884afd",
   "metadata": {},
   "source": [
    "# 10Q)Delete the emp table."
   ]
  },
  {
   "cell_type": "code",
   "execution_count": 70,
   "id": "9ecc3d29",
   "metadata": {},
   "outputs": [],
   "source": [
    "def delete():\n",
    "    conn = sqlite3.connect('temp_db.db')\n",
    "    cur = conn.cursor()\n",
    "    cur.execute('DELETE FROM emp')\n",
    "    conn.commit()\n",
    "    conn.close()"
   ]
  },
  {
   "cell_type": "code",
   "execution_count": 71,
   "id": "3623bacf",
   "metadata": {},
   "outputs": [],
   "source": [
    "delete()"
   ]
  },
  {
   "cell_type": "code",
   "execution_count": null,
   "id": "0f7e200b",
   "metadata": {},
   "outputs": [],
   "source": []
  },
  {
   "cell_type": "code",
   "execution_count": null,
   "id": "21887ec0",
   "metadata": {},
   "outputs": [],
   "source": []
  }
 ],
 "metadata": {
  "kernelspec": {
   "display_name": "Python 3 (ipykernel)",
   "language": "python",
   "name": "python3"
  },
  "language_info": {
   "codemirror_mode": {
    "name": "ipython",
    "version": 3
   },
   "file_extension": ".py",
   "mimetype": "text/x-python",
   "name": "python",
   "nbconvert_exporter": "python",
   "pygments_lexer": "ipython3",
   "version": "3.11.4"
  }
 },
 "nbformat": 4,
 "nbformat_minor": 5
}
