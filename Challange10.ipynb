{
 "cells": [
  {
   "cell_type": "code",
   "execution_count": 1,
   "id": "fb9acba4",
   "metadata": {},
   "outputs": [],
   "source": [
    "import numpy as np"
   ]
  },
  {
   "cell_type": "markdown",
   "id": "df64ff46",
   "metadata": {},
   "source": [
    "# 1Q)Create two numpy arrays. The first array, called arr1 should be of one dimension and consist of six elements of float type. The second array, called arr2 should be of two dimensions and each sub-array should consist of 5 elements of string type. Display these two numpy arrays."
   ]
  },
  {
   "cell_type": "code",
   "execution_count": 33,
   "id": "39d1afc3",
   "metadata": {},
   "outputs": [],
   "source": [
    "arr1 = np.array([1.7,2.5,3.4,4.6,5.2,6.1])\n",
    "\n",
    "arr2 = np.array([['One','Two','Three','Four',],['Six','Seven','Eight','Nine']])"
   ]
  },
  {
   "cell_type": "code",
   "execution_count": 34,
   "id": "0412b0be",
   "metadata": {
    "scrolled": true
   },
   "outputs": [
    {
     "name": "stdout",
     "output_type": "stream",
     "text": [
      "========== 1D Array ==========\n",
      "[1.7 2.5 3.4 4.6 5.2 6.1]\n",
      "========== 2D Array ==========\n",
      "[['One' 'Two' 'Three' 'Four']\n",
      " ['Six' 'Seven' 'Eight' 'Nine']]\n"
     ]
    }
   ],
   "source": [
    "print('='*10,\"1D Array\",'='*10)\n",
    "\n",
    "print(arr1)\n",
    "\n",
    "print('='*10,\"2D Array\",'='*10)\n",
    "\n",
    "print(arr2)"
   ]
  },
  {
   "cell_type": "markdown",
   "id": "c582cb71",
   "metadata": {},
   "source": [
    "# 2Q)For the arrays arr1 and arr2 created in Q.No.1, display the following properties: data type and dimensions. Reshape arr1 into a two dimensional array of 2 rows and three columns, and display the reshaped array. Similarly, reshape arr2 into a single dimensional array and display the reshaped array"
   ]
  },
  {
   "cell_type": "code",
   "execution_count": 35,
   "id": "73a3e752",
   "metadata": {},
   "outputs": [
    {
     "name": "stdout",
     "output_type": "stream",
     "text": [
      "data type of arr1 :  float64\n",
      "data type of arr2 :  <U5\n"
     ]
    }
   ],
   "source": [
    "print('data type of arr1 : ',arr1.dtype)\n",
    "print('data type of arr2 : ',arr2.dtype)"
   ]
  },
  {
   "cell_type": "code",
   "execution_count": 36,
   "id": "e57c9ad8",
   "metadata": {},
   "outputs": [
    {
     "name": "stdout",
     "output_type": "stream",
     "text": [
      "[[1.7 2.5 3.4]\n",
      " [4.6 5.2 6.1]]\n"
     ]
    }
   ],
   "source": [
    "array=arr1.reshape(2, 3)\n",
    "print(array)"
   ]
  },
  {
   "cell_type": "code",
   "execution_count": 37,
   "id": "4ded12be",
   "metadata": {},
   "outputs": [
    {
     "name": "stdout",
     "output_type": "stream",
     "text": [
      "[['One' 'Two' 'Three' 'Four' 'Six' 'Seven' 'Eight' 'Nine']]\n"
     ]
    }
   ],
   "source": [
    "arr2.shape\n",
    "array_1=arr2.reshape(1,8)\n",
    "print(array_1)"
   ]
  },
  {
   "cell_type": "markdown",
   "id": "efa7c9f5",
   "metadata": {},
   "source": [
    "# 3Q)Create a two dimensional array called arr3, of 3 rows and 4 columns which is initialized to zeroes. Create another single dimensional array called arr4, with 6 elements and which is initialized to ones. The type of arr4 is int."
   ]
  },
  {
   "cell_type": "code",
   "execution_count": 38,
   "id": "06666985",
   "metadata": {},
   "outputs": [
    {
     "data": {
      "text/plain": [
       "array([[ 1,  2,  3,  4],\n",
       "       [ 5,  6,  7,  8],\n",
       "       [ 9, 10, 11, 12]])"
      ]
     },
     "execution_count": 38,
     "metadata": {},
     "output_type": "execute_result"
    }
   ],
   "source": [
    "arr3=np.array([[1,2,3,4],[5,6,7,8],[9,10,11,12]])\n",
    "arr3"
   ]
  },
  {
   "cell_type": "code",
   "execution_count": 39,
   "id": "8fa47493",
   "metadata": {},
   "outputs": [
    {
     "data": {
      "text/plain": [
       "array([[0., 0., 0., 0.],\n",
       "       [0., 0., 0., 0.],\n",
       "       [0., 0., 0., 0.]])"
      ]
     },
     "execution_count": 39,
     "metadata": {},
     "output_type": "execute_result"
    }
   ],
   "source": [
    "y = np.zeros([3,4])\n",
    "y"
   ]
  },
  {
   "cell_type": "code",
   "execution_count": 40,
   "id": "59ed0120",
   "metadata": {},
   "outputs": [
    {
     "data": {
      "text/plain": [
       "array([20, 21, 22, 23, 24, 25])"
      ]
     },
     "execution_count": 40,
     "metadata": {},
     "output_type": "execute_result"
    }
   ],
   "source": [
    "arr4=np.array([20,21,22,23,24,25])\n",
    "arr4\n"
   ]
  },
  {
   "cell_type": "code",
   "execution_count": 41,
   "id": "7e6ec097",
   "metadata": {},
   "outputs": [
    {
     "name": "stdout",
     "output_type": "stream",
     "text": [
      "data type of arr4 :  int32\n"
     ]
    }
   ],
   "source": [
    "print('data type of arr4 : ',arr4.dtype)"
   ]
  },
  {
   "cell_type": "code",
   "execution_count": 42,
   "id": "393e76d4",
   "metadata": {},
   "outputs": [],
   "source": [
    "z = np.ones(6)"
   ]
  },
  {
   "cell_type": "markdown",
   "id": "808e8a22",
   "metadata": {},
   "source": [
    "# 4Q)Create a list called list1 with the elements 10,20,30,40,50. Now, create a numpy array called arr5 from list1, using the method asarray. The data type of arr5 is float. Similarly, create another array called arr6, from list1, using the method fromiter, whose data type is int. Display arr5 and arr6."
   ]
  },
  {
   "cell_type": "code",
   "execution_count": 43,
   "id": "dde9111c",
   "metadata": {},
   "outputs": [
    {
     "data": {
      "text/plain": [
       "list[10, 20, 30, 40, 50]"
      ]
     },
     "execution_count": 43,
     "metadata": {},
     "output_type": "execute_result"
    }
   ],
   "source": [
    "list1=list[10,20,30,40,50]\n",
    "list1"
   ]
  },
  {
   "cell_type": "code",
   "execution_count": null,
   "id": "604979be",
   "metadata": {},
   "outputs": [],
   "source": [
    "arr5=np.asarray(list1)\n",
    "arr5[3]=0"
   ]
  },
  {
   "cell_type": "code",
   "execution_count": null,
   "id": "e3bbfa07",
   "metadata": {},
   "outputs": [],
   "source": []
  },
  {
   "cell_type": "code",
   "execution_count": null,
   "id": "17a727c8",
   "metadata": {},
   "outputs": [],
   "source": [
    "arr6=np.fromiter(list1,int)\n",
    "print(arr6)"
   ]
  },
  {
   "cell_type": "code",
   "execution_count": null,
   "id": "82651d65",
   "metadata": {},
   "outputs": [],
   "source": []
  },
  {
   "cell_type": "markdown",
   "id": "8d7ae571",
   "metadata": {},
   "source": [
    "# 5Q)Create a numpy array called arr7 using the method arange. The starting value of this array is 12 and ending value is 99, with a step size of 3. Use the linspace method to create another array called arr8, where the starting value is 12 and ending value is 99 and which contains 50 evenly spaced elements."
   ]
  },
  {
   "cell_type": "code",
   "execution_count": 38,
   "id": "b5b1cb69",
   "metadata": {},
   "outputs": [
    {
     "data": {
      "text/plain": [
       "array([12, 13, 14, 15, 16, 17, 18, 19, 20, 21, 22, 23, 24, 25, 26, 27, 28,\n",
       "       29, 30, 31, 32, 33, 34, 35, 36, 37, 38, 39, 40, 41, 42, 43, 44, 45,\n",
       "       46, 47, 48, 49, 50, 51, 52, 53, 54, 55, 56, 57, 58, 59, 60, 61, 62,\n",
       "       63, 64, 65, 66, 67, 68, 69, 70, 71, 72, 73, 74, 75, 76, 77, 78, 79,\n",
       "       80, 81, 82, 83, 84, 85, 86, 87, 88, 89, 90, 91, 92, 93, 94, 95, 96,\n",
       "       97, 98])"
      ]
     },
     "execution_count": 38,
     "metadata": {},
     "output_type": "execute_result"
    }
   ],
   "source": [
    "arr7=np.arange(12,99)\n",
    "arr7"
   ]
  },
  {
   "cell_type": "code",
   "execution_count": 40,
   "id": "223897ee",
   "metadata": {},
   "outputs": [
    {
     "name": "stdout",
     "output_type": "stream",
     "text": [
      "[12.         13.7755102  15.55102041 17.32653061 19.10204082 20.87755102\n",
      " 22.65306122 24.42857143 26.20408163 27.97959184 29.75510204 31.53061224\n",
      " 33.30612245 35.08163265 36.85714286 38.63265306 40.40816327 42.18367347\n",
      " 43.95918367 45.73469388 47.51020408 49.28571429 51.06122449 52.83673469\n",
      " 54.6122449  56.3877551  58.16326531 59.93877551 61.71428571 63.48979592\n",
      " 65.26530612 67.04081633 68.81632653 70.59183673 72.36734694 74.14285714\n",
      " 75.91836735 77.69387755 79.46938776 81.24489796 83.02040816 84.79591837\n",
      " 86.57142857 88.34693878 90.12244898 91.89795918 93.67346939 95.44897959\n",
      " 97.2244898  99.        ]\n"
     ]
    }
   ],
   "source": [
    "arr8 = np.linspace(12,99,50)\n",
    "print(arr8)"
   ]
  },
  {
   "cell_type": "code",
   "execution_count": null,
   "id": "eae70132",
   "metadata": {},
   "outputs": [],
   "source": []
  },
  {
   "cell_type": "markdown",
   "id": "e6da5d1d",
   "metadata": {},
   "source": [
    "# 6Q)In the array arr2 defined in Q.No. 1, what is the output of the following statements: print(arr2), print(arr2[0:1]), print(arr2[1][3]), print (arr2[1])"
   ]
  },
  {
   "cell_type": "code",
   "execution_count": 45,
   "id": "9cd25b21",
   "metadata": {},
   "outputs": [
    {
     "name": "stdout",
     "output_type": "stream",
     "text": [
      "[['One' 'Two' 'Three' 'Four']\n",
      " ['Six' 'Seven' 'Eight' 'Nine']]\n"
     ]
    }
   ],
   "source": [
    "print(arr2)"
   ]
  },
  {
   "cell_type": "code",
   "execution_count": 46,
   "id": "01e2226d",
   "metadata": {},
   "outputs": [
    {
     "name": "stdout",
     "output_type": "stream",
     "text": [
      "[['One' 'Two' 'Three' 'Four']]\n",
      "Nine\n",
      "['Six' 'Seven' 'Eight' 'Nine']\n"
     ]
    }
   ],
   "source": [
    "print(arr2[0:1])\n",
    "print(arr2[1][3])\n",
    "print(arr2[1])"
   ]
  },
  {
   "cell_type": "code",
   "execution_count": null,
   "id": "e458fdf9",
   "metadata": {},
   "outputs": [],
   "source": []
  },
  {
   "cell_type": "markdown",
   "id": "ef851c40",
   "metadata": {},
   "source": [
    "# 7Q)Create a two dimensional array called arr9 with the following elements: [101, 322, 768], [233, 124, 390], [534, 122, 216]. From arr9, create an array called arr10 which contains the elements 101, 322, 390, 122 using advanced integer indexing. Create another array called arr11 which contains elements of first and second rows, and second and third columns using slicing operations."
   ]
  },
  {
   "cell_type": "code",
   "execution_count": 13,
   "id": "8dfbed31",
   "metadata": {},
   "outputs": [
    {
     "name": "stdout",
     "output_type": "stream",
     "text": [
      "[[101 322 768]\n",
      " [233 124 390]\n",
      " [534 122 216]]\n"
     ]
    }
   ],
   "source": [
    "arr9=np.array([[101, 322, 768], [233, 124, 390], [534, 122, 216]])\n",
    "print(arr9)"
   ]
  },
  {
   "cell_type": "code",
   "execution_count": 53,
   "id": "784be077",
   "metadata": {},
   "outputs": [
    {
     "name": "stdout",
     "output_type": "stream",
     "text": [
      "[101 322 390 122]\n"
     ]
    }
   ],
   "source": [
    "arr10=np.array([101,322,390,122])\n",
    "\n",
    "print(arr10)"
   ]
  },
  {
   "cell_type": "code",
   "execution_count": 6,
   "id": "858331cc",
   "metadata": {},
   "outputs": [
    {
     "data": {
      "text/plain": [
       "array([322, 122])"
      ]
     },
     "execution_count": 6,
     "metadata": {},
     "output_type": "execute_result"
    }
   ],
   "source": [
    "index=np.array([1,3])\n",
    "arr10[index]"
   ]
  },
  {
   "cell_type": "code",
   "execution_count": 10,
   "id": "2f87ce16",
   "metadata": {},
   "outputs": [
    {
     "data": {
      "text/plain": [
       "array([[101, 322, 768],\n",
       "       [233, 124, 390],\n",
       "       [534, 122, 216]])"
      ]
     },
     "execution_count": 10,
     "metadata": {},
     "output_type": "execute_result"
    }
   ],
   "source": [
    "arr11=arr9\n",
    "arr11"
   ]
  },
  {
   "cell_type": "code",
   "execution_count": 24,
   "id": "42534894",
   "metadata": {},
   "outputs": [
    {
     "data": {
      "text/plain": [
       "array([[124, 390],\n",
       "       [122, 216]])"
      ]
     },
     "execution_count": 24,
     "metadata": {},
     "output_type": "execute_result"
    }
   ],
   "source": [
    "arr11[1:,1:]"
   ]
  },
  {
   "cell_type": "code",
   "execution_count": 26,
   "id": "7767480d",
   "metadata": {},
   "outputs": [
    {
     "data": {
      "text/plain": [
       "array([124, 216])"
      ]
     },
     "execution_count": 26,
     "metadata": {},
     "output_type": "execute_result"
    }
   ],
   "source": [
    "arr11[[1,2],[1,2]]"
   ]
  },
  {
   "cell_type": "markdown",
   "id": "d3b40384",
   "metadata": {},
   "source": [
    "# 8Q)From array arr9 created in Q.No. 7, find all elements greater than 200 using boolean indexing, find all non-NaN elements, and find all non-float elements. Find the result of adding arrays arr9 and another array of 3 elements, using the concept of broadcasting."
   ]
  },
  {
   "cell_type": "code",
   "execution_count": 25,
   "id": "917a4075",
   "metadata": {},
   "outputs": [
    {
     "data": {
      "text/plain": [
       "array([[101, 322, 768],\n",
       "       [233, 124, 390],\n",
       "       [534, 122, 216]])"
      ]
     },
     "execution_count": 25,
     "metadata": {},
     "output_type": "execute_result"
    }
   ],
   "source": [
    "arr9"
   ]
  },
  {
   "cell_type": "code",
   "execution_count": 27,
   "id": "9f894653",
   "metadata": {},
   "outputs": [
    {
     "data": {
      "text/plain": [
       "array([322, 768, 233, 390, 534, 216])"
      ]
     },
     "execution_count": 27,
     "metadata": {},
     "output_type": "execute_result"
    }
   ],
   "source": [
    "arr9[arr9>200]"
   ]
  },
  {
   "cell_type": "code",
   "execution_count": 57,
   "id": "f6f705a2",
   "metadata": {},
   "outputs": [
    {
     "name": "stdout",
     "output_type": "stream",
     "text": [
      "[ 1.  2. 34.]\n"
     ]
    }
   ],
   "source": [
    "a = np.array([1,2,np.nan,34])\n",
    "print(a[~np.isnan(a)])"
   ]
  },
  {
   "cell_type": "code",
   "execution_count": null,
   "id": "dc01bfd0",
   "metadata": {},
   "outputs": [],
   "source": []
  },
  {
   "cell_type": "code",
   "execution_count": null,
   "id": "f138c653",
   "metadata": {},
   "outputs": [],
   "source": []
  },
  {
   "cell_type": "markdown",
   "id": "ac057fef",
   "metadata": {},
   "source": [
    "# 9Q)For the array arr9, find its transpose. Find the result of joining the arrays arr1 and arr4 along axis 0."
   ]
  },
  {
   "cell_type": "code",
   "execution_count": 59,
   "id": "b122f95e",
   "metadata": {},
   "outputs": [
    {
     "data": {
      "text/plain": [
       "array([[101, 322, 768],\n",
       "       [233, 124, 390],\n",
       "       [534, 122, 216]])"
      ]
     },
     "execution_count": 59,
     "metadata": {},
     "output_type": "execute_result"
    }
   ],
   "source": [
    "arr9"
   ]
  },
  {
   "cell_type": "code",
   "execution_count": 61,
   "id": "8c634491",
   "metadata": {},
   "outputs": [
    {
     "name": "stdout",
     "output_type": "stream",
     "text": [
      "[[101 233 534]\n",
      " [322 124 122]\n",
      " [768 390 216]]\n"
     ]
    }
   ],
   "source": [
    "a=arr9.T\n",
    "print(a)"
   ]
  },
  {
   "cell_type": "code",
   "execution_count": 62,
   "id": "8b705042",
   "metadata": {},
   "outputs": [
    {
     "name": "stdout",
     "output_type": "stream",
     "text": [
      "[ 1.7  2.5  3.4  4.6  5.2  6.1 20.  21.  22.  23.  24.  25. ]\n"
     ]
    }
   ],
   "source": [
    "join=np.concatenate((arr1,arr4),axis=0)\n",
    "print(join)"
   ]
  },
  {
   "cell_type": "markdown",
   "id": "81d59a75",
   "metadata": {},
   "source": [
    "# 10Q)Using any two 2-dimensional arrays, demonstrate the working of the methods, hstack, vstack, hsplit and vsplit"
   ]
  },
  {
   "cell_type": "code",
   "execution_count": 63,
   "id": "6b6dea6f",
   "metadata": {},
   "outputs": [
    {
     "data": {
      "text/plain": [
       "array([[101, 322, 768],\n",
       "       [233, 124, 390],\n",
       "       [534, 122, 216]])"
      ]
     },
     "execution_count": 63,
     "metadata": {},
     "output_type": "execute_result"
    }
   ],
   "source": [
    "arr9"
   ]
  },
  {
   "cell_type": "code",
   "execution_count": 69,
   "id": "ea24f2fe",
   "metadata": {},
   "outputs": [
    {
     "name": "stdout",
     "output_type": "stream",
     "text": [
      "[array([[101, 322, 768]]), array([[233, 124, 390]]), array([[534, 122, 216]])]\n"
     ]
    }
   ],
   "source": [
    "arr_sp_v = np.vsplit(arr9,3)\n",
    "print(arr_sp_v)\n"
   ]
  },
  {
   "cell_type": "code",
   "execution_count": 70,
   "id": "5f8118b7",
   "metadata": {},
   "outputs": [
    {
     "name": "stdout",
     "output_type": "stream",
     "text": [
      "[array([[101],\n",
      "       [233],\n",
      "       [534]]), array([[322],\n",
      "       [124],\n",
      "       [122]]), array([[768],\n",
      "       [390],\n",
      "       [216]])]\n"
     ]
    }
   ],
   "source": [
    "arr_sp_h = np.hsplit(arr9,3)\n",
    "print(arr_sp_h)\n"
   ]
  },
  {
   "cell_type": "code",
   "execution_count": 75,
   "id": "b014e6e8",
   "metadata": {},
   "outputs": [
    {
     "name": "stdout",
     "output_type": "stream",
     "text": [
      "[[101 322 768]\n",
      " [233 124 390]\n",
      " [534 122 216]]\n"
     ]
    }
   ],
   "source": [
    "V_stack = np.vstack((arr9))\n",
    "print(V_stack)"
   ]
  },
  {
   "cell_type": "code",
   "execution_count": 74,
   "id": "7be90cc4",
   "metadata": {},
   "outputs": [
    {
     "name": "stdout",
     "output_type": "stream",
     "text": [
      "[101 322 768 233 124 390 534 122 216]\n"
     ]
    }
   ],
   "source": [
    "H_stack =np.hstack((arr9))\n",
    "print(H_stack)"
   ]
  },
  {
   "cell_type": "code",
   "execution_count": null,
   "id": "1f7b08fc",
   "metadata": {},
   "outputs": [],
   "source": []
  }
 ],
 "metadata": {
  "kernelspec": {
   "display_name": "Python 3 (ipykernel)",
   "language": "python",
   "name": "python3"
  },
  "language_info": {
   "codemirror_mode": {
    "name": "ipython",
    "version": 3
   },
   "file_extension": ".py",
   "mimetype": "text/x-python",
   "name": "python",
   "nbconvert_exporter": "python",
   "pygments_lexer": "ipython3",
   "version": "3.11.4"
  }
 },
 "nbformat": 4,
 "nbformat_minor": 5
}
