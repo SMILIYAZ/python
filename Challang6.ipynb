{
 "cells": [
  {
   "cell_type": "markdown",
   "id": "2575001a",
   "metadata": {},
   "source": [
    "# 1Q"
   ]
  },
  {
   "cell_type": "code",
   "execution_count": 2,
   "id": "8e735c29",
   "metadata": {},
   "outputs": [
    {
     "name": "stdout",
     "output_type": "stream",
     "text": [
      "Enter the name of the file with .txt extension:M.py\n",
      "def add(x,y):\n",
      "\n",
      "    return x*y\n"
     ]
    }
   ],
   "source": [
    "a=str(input(\"Enter the name of the file with .txt extension:\"))\n",
    "file2=open(a,'r')\n",
    "line=file2.readline()\n",
    "while(line!=\"\"):\n",
    "    print(line)\n",
    "    line=file2.readline()\n",
    "file2.close()"
   ]
  },
  {
   "cell_type": "markdown",
   "id": "e36fe88c",
   "metadata": {},
   "source": [
    "# 2Q"
   ]
  },
  {
   "cell_type": "code",
   "execution_count": 5,
   "id": "8f2abb5d",
   "metadata": {},
   "outputs": [
    {
     "data": {
      "text/plain": [
       "'C:\\\\Users\\\\dell'"
      ]
     },
     "execution_count": 5,
     "metadata": {},
     "output_type": "execute_result"
    }
   ],
   "source": [
    "import os\n",
    "os.getcwd()"
   ]
  },
  {
   "cell_type": "code",
   "execution_count": null,
   "id": "b9b76f74",
   "metadata": {},
   "outputs": [],
   "source": [
    "file_path = '\\Users\\dell\\Desktop\\Shaik Imthiyaz\\pyhton'\n",
    "print(os.stat(file_path))"
   ]
  },
  {
   "cell_type": "markdown",
   "id": "33bef5f2",
   "metadata": {},
   "source": [
    "# 3Q"
   ]
  },
  {
   "cell_type": "code",
   "execution_count": null,
   "id": "e2c489b4",
   "metadata": {},
   "outputs": [],
   "source": [
    "src = input(\"Enter src filename:\") \n",
    "dest = input(\"Enter dest filename:\") \n",
    "os.rename(src, dest) "
   ]
  },
  {
   "cell_type": "markdown",
   "id": "7c0cce09",
   "metadata": {},
   "source": [
    "# 4Q"
   ]
  },
  {
   "cell_type": "code",
   "execution_count": 1,
   "id": "6a489509",
   "metadata": {},
   "outputs": [
    {
     "name": "stdout",
     "output_type": "stream",
     "text": [
      "Line1: Geeks\n",
      "Line2: for\n",
      "Line3: Geeks\n"
     ]
    }
   ],
   "source": [
    "L = [\"Geeks\\n\", \"for\\n\", \"Geeks\\n\"]\n",
    "file1 = open('myfile.txt', 'w')\n",
    "file1.writelines(L)\n",
    "file1.close()\n",
    "file1 = open('myfile.txt', 'r')\n",
    "Lines = file1.readlines()\n",
    " \n",
    "count = 0\n",
    "for line in Lines:\n",
    "    count += 1\n",
    "    print(\"Line{}: {}\".format(count, line.strip()))"
   ]
  },
  {
   "cell_type": "markdown",
   "id": "634961e4",
   "metadata": {},
   "source": [
    "# 5Q"
   ]
  },
  {
   "cell_type": "code",
   "execution_count": null,
   "id": "562a580e",
   "metadata": {},
   "outputs": [],
   "source": [
    "import os\n",
    "\n",
    "with open('python.txt','r') as firstfile, open('python2.txt','a') as secondfile: \n",
    "    for line in firstfile: \n",
    "             secondfile.write(line)"
   ]
  },
  {
   "cell_type": "markdown",
   "id": "c6cfc59f",
   "metadata": {},
   "source": [
    "# 6Q"
   ]
  },
  {
   "cell_type": "code",
   "execution_count": null,
   "id": "6fdeb440",
   "metadata": {},
   "outputs": [],
   "source": [
    "name1 = input(\"Enter file to be read from: \")\n",
    "name2 = input(\"Enter file to be appended to: \")\n",
    "fin = open(name1, \"r\")\n",
    "data2 = fin.read()\n",
    "fin.close()\n",
    "fout = open(name2, \"a\")\n",
    "fout.write(data2)\n",
    "fout.close()"
   ]
  },
  {
   "cell_type": "markdown",
   "id": "5b2e92a8",
   "metadata": {},
   "source": [
    "# 7Q"
   ]
  },
  {
   "cell_type": "code",
   "execution_count": 2,
   "id": "e477caeb",
   "metadata": {},
   "outputs": [
    {
     "name": "stdout",
     "output_type": "stream",
     "text": [
      "-----Program for Student Information-----\n",
      "How many student record you want to store?? 2\n",
      "Enter the complete name (First and last name) of student: M suresh\n",
      "Enter contact number: 9618538554\n",
      "Enter Marks: 74\n",
      "Enter the complete name (First and last name) of student: k Mamatha\n",
      "Enter contact number: 63245695845\n",
      "Enter Marks: 86\n",
      "Enter the operation detail: \n",
      "     1: Sorting using first name \n",
      "     2: Finding Minimum marks \n",
      "     3: Search contact number using first name: \n",
      "     4: Exit\n",
      "     Option: 1\n",
      "M suresh\n",
      "k Mamatha\n",
      "Want to perform some other operation??? Y or N: \n",
      "y\n"
     ]
    }
   ],
   "source": [
    "print(\"-----Program for Student Information-----\")\n",
    " \n",
    "D = dict()\n",
    " \n",
    "n = int(input('How many student record you want to store?? '))\n",
    " \n",
    "for i in range(0,n):\n",
    "    x, y = input(\"Enter the complete name (First and last name) of student: \").split()\n",
    "    z = input(\"Enter contact number: \")\n",
    "    m = input('Enter Marks: ')\n",
    "    D[x, y] = (z, m)\n",
    "     \n",
    "def sort():\n",
    "    ls = list()\n",
    "    \n",
    "    for sname,details in D.items(): \n",
    "       \n",
    "        tup = (sname[0],sname[1]) \n",
    "         \n",
    "       \n",
    "        ls.append(tup)    \n",
    "         \n",
    "    ls = sorted(ls)    \n",
    "    for i in ls:\n",
    "       \n",
    "        print(i[0],i[1]) \n",
    "    return\n",
    "   \n",
    "\n",
    "def minmarks():\n",
    "    ls = list()\n",
    "   \n",
    "    for sname,details in D.items(): \n",
    "        \n",
    "        ls.append(details[1])    \n",
    "     \n",
    "    \n",
    "    ls = sorted(ls)    \n",
    "    print(\"Minimum marks: \", min(ls))\n",
    "     \n",
    "    return\n",
    "   \n",
    "\n",
    "def searchdetail(fname):\n",
    "    ls = list()\n",
    "     \n",
    "    for sname,details in D.items():\n",
    "       \n",
    "        tup=(sname,details)\n",
    "        ls.append(tup)\n",
    "         \n",
    "    for i in ls: \n",
    "        if i[0][0] == fname:\n",
    "            print(i[1][0])\n",
    "    return\n",
    "   \n",
    "\n",
    "def option():\n",
    "   \n",
    "    choice = int(input('Enter the operation detail: \\n \\\n",
    "    1: Sorting using first name \\n \\\n",
    "    2: Finding Minimum marks \\n \\\n",
    "    3: Search contact number using first name: \\n \\\n",
    "    4: Exit\\n \\\n",
    "    Option: '))\n",
    "     \n",
    "    if choice == 1:\n",
    "       \n",
    "        sort()\n",
    "        print('Want to perform some other operation??? Y or N: ')\n",
    "        inp = input()\n",
    "        if inp == 'Y':\n",
    "            option()\n",
    "             \n",
    "         \n",
    "        exit()\n",
    "         \n",
    "    elif choice == 2:\n",
    "        minmarks()\n",
    "        print('Want to perform some other operation??? Y or N: ')\n",
    "         \n",
    "        inp = input()\n",
    "        if inp == 'Y':\n",
    "            option()\n",
    "        exit() \n",
    "         \n",
    "    elif choice == 3:\n",
    "        first = input('Enter first name of student: ')\n",
    "        searchdetail(first)\n",
    "         \n",
    "        print('Want to perform some other operation??? Y or N: ')\n",
    "        inp = input()\n",
    "        if inp == 'Y':\n",
    "            option()\n",
    "             \n",
    "        exit()\n",
    "    \n",
    "option()"
   ]
  },
  {
   "cell_type": "markdown",
   "id": "3105da86",
   "metadata": {},
   "source": [
    "# 8Q"
   ]
  },
  {
   "cell_type": "code",
   "execution_count": 9,
   "id": "48dd928d",
   "metadata": {},
   "outputs": [],
   "source": [
    "from Python import m1,m2,m3"
   ]
  },
  {
   "cell_type": "code",
   "execution_count": 12,
   "id": "e1e93d58",
   "metadata": {},
   "outputs": [
    {
     "data": {
      "text/plain": [
       "32"
      ]
     },
     "execution_count": 12,
     "metadata": {},
     "output_type": "execute_result"
    }
   ],
   "source": [
    "m1.f1(4,8) #x*y"
   ]
  },
  {
   "cell_type": "code",
   "execution_count": 13,
   "id": "37f90ba0",
   "metadata": {},
   "outputs": [
    {
     "data": {
      "text/plain": [
       "0.5555555555555556"
      ]
     },
     "execution_count": 13,
     "metadata": {},
     "output_type": "execute_result"
    }
   ],
   "source": [
    "m2.f2(5,9) #a/b"
   ]
  },
  {
   "cell_type": "code",
   "execution_count": 14,
   "id": "95f338bf",
   "metadata": {},
   "outputs": [
    {
     "data": {
      "text/plain": [
       "1"
      ]
     },
     "execution_count": 14,
     "metadata": {},
     "output_type": "execute_result"
    }
   ],
   "source": [
    "m3.f3(7,3) #b%c"
   ]
  },
  {
   "cell_type": "markdown",
   "id": "b3f7cbe5",
   "metadata": {},
   "source": [
    "# 9Q"
   ]
  },
  {
   "cell_type": "code",
   "execution_count": 8,
   "id": "6893d0e2",
   "metadata": {},
   "outputs": [
    {
     "data": {
      "text/plain": [
       "1.7142857142857142"
      ]
     },
     "execution_count": 8,
     "metadata": {},
     "output_type": "execute_result"
    }
   ],
   "source": [
    "def fun1(a,b):\n",
    "    return(a*b)\n",
    "def fun2(x,y):\n",
    "    return(x%y)\n",
    "def fun3(b,c):\n",
    "    return(b/c)"
   ]
  },
  {
   "cell_type": "code",
   "execution_count": 9,
   "id": "530def9e",
   "metadata": {},
   "outputs": [
    {
     "data": {
      "text/plain": [
       "72"
      ]
     },
     "execution_count": 9,
     "metadata": {},
     "output_type": "execute_result"
    }
   ],
   "source": [
    "fun1(9,8)"
   ]
  },
  {
   "cell_type": "code",
   "execution_count": 10,
   "id": "6f0f9531",
   "metadata": {},
   "outputs": [
    {
     "data": {
      "text/plain": [
       "8"
      ]
     },
     "execution_count": 10,
     "metadata": {},
     "output_type": "execute_result"
    }
   ],
   "source": [
    "fun2(8,9)"
   ]
  },
  {
   "cell_type": "code",
   "execution_count": 11,
   "id": "fb80963a",
   "metadata": {},
   "outputs": [
    {
     "data": {
      "text/plain": [
       "1.7142857142857142"
      ]
     },
     "execution_count": 11,
     "metadata": {},
     "output_type": "execute_result"
    }
   ],
   "source": [
    "fun3(12,7)"
   ]
  },
  {
   "cell_type": "markdown",
   "id": "789813e7",
   "metadata": {},
   "source": [
    "# 10Q"
   ]
  },
  {
   "cell_type": "code",
   "execution_count": 1,
   "id": "4dacdb5d",
   "metadata": {},
   "outputs": [],
   "source": [
    "import model1 as m"
   ]
  },
  {
   "cell_type": "code",
   "execution_count": 2,
   "id": "a9a8db9a",
   "metadata": {},
   "outputs": [
    {
     "data": {
      "text/plain": [
       "45"
      ]
     },
     "execution_count": 2,
     "metadata": {},
     "output_type": "execute_result"
    }
   ],
   "source": [
    "m.f1(5,9) #a*b"
   ]
  },
  {
   "cell_type": "code",
   "execution_count": 3,
   "id": "d429632a",
   "metadata": {},
   "outputs": [
    {
     "data": {
      "text/plain": [
       "13"
      ]
     },
     "execution_count": 3,
     "metadata": {},
     "output_type": "execute_result"
    }
   ],
   "source": [
    "m.f2(7,6) #a+b"
   ]
  },
  {
   "cell_type": "code",
   "execution_count": 4,
   "id": "c7133c29",
   "metadata": {},
   "outputs": [
    {
     "data": {
      "text/plain": [
       "1.6666666666666667"
      ]
     },
     "execution_count": 4,
     "metadata": {},
     "output_type": "execute_result"
    }
   ],
   "source": [
    "m.f3(10,6) #a/b"
   ]
  },
  {
   "cell_type": "code",
   "execution_count": null,
   "id": "7217bb80",
   "metadata": {},
   "outputs": [],
   "source": []
  }
 ],
 "metadata": {
  "kernelspec": {
   "display_name": "Python 3 (ipykernel)",
   "language": "python",
   "name": "python3"
  },
  "language_info": {
   "codemirror_mode": {
    "name": "ipython",
    "version": 3
   },
   "file_extension": ".py",
   "mimetype": "text/x-python",
   "name": "python",
   "nbconvert_exporter": "python",
   "pygments_lexer": "ipython3",
   "version": "3.11.4"
  }
 },
 "nbformat": 4,
 "nbformat_minor": 5
}
