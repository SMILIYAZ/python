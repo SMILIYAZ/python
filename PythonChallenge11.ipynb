{
 "cells": [
  {
   "cell_type": "markdown",
   "id": "d241029e",
   "metadata": {},
   "source": [
    "# 1Q)  Create a simple tkinter application to display a welcome message in a window using the label widget"
   ]
  },
  {
   "cell_type": "code",
   "execution_count": 2,
   "id": "c073921a",
   "metadata": {},
   "outputs": [],
   "source": [
    "from tkinter import * \n",
    "window = Tk()\n",
    "c1 = Button(window,text = \"Welcome\")\n",
    "c1.grid(row=0,column =0)\n",
    "window.mainloop()"
   ]
  },
  {
   "cell_type": "markdown",
   "id": "4f038fd1",
   "metadata": {},
   "source": [
    "\n",
    "# 2Q)Create tkinter application to accept user name in a text widget. Then display the user name with a welcome message in a label widget"
   ]
  },
  {
   "cell_type": "code",
   "execution_count": 19,
   "id": "24e8af0f",
   "metadata": {},
   "outputs": [
    {
     "data": {
      "text/plain": [
       "<bound method Misc.mainloop of <tkinter.Tk object .>>"
      ]
     },
     "execution_count": 19,
     "metadata": {},
     "output_type": "execute_result"
    }
   ],
   "source": [
    "window = Tk()\n",
    "\n",
    "def msg():\n",
    "    x= t1.get(1.0,END)\n",
    "    l1.config(text = 'Welcome' + x)\n",
    "\n",
    "t1= Text(window,height=1,width=20)\n",
    "t1.grid(row=0,column=1)\n",
    "\n",
    "b1 = Button(window,text='Execute',command=msg)\n",
    "b1.grid(row=1,column=1)\n",
    "\n",
    "l1=Label(window,text='')\n",
    "l1.grid(row=2,column=1)\n",
    "\n",
    "window.mainloop"
   ]
  },
  {
   "cell_type": "code",
   "execution_count": null,
   "id": "878d88f4",
   "metadata": {},
   "outputs": [],
   "source": []
  },
  {
   "cell_type": "markdown",
   "id": "a924b24b",
   "metadata": {},
   "source": [
    "# 3Q)Modify the tkinter application developed in Q.No. 2 so that it uses a grid layout"
   ]
  },
  {
   "cell_type": "code",
   "execution_count": null,
   "id": "107baf16",
   "metadata": {},
   "outputs": [],
   "source": [
    "Window = Tk()\n",
    "\n",
    "def msg():\n",
    "    x= t1.get(1.0,END)\n",
    "    l1.config(text = 'Welcome' + x)\n",
    "\n",
    "t1= Text(window,height=1,width=20)\n",
    "t1.grid(row=0,column=1)\n",
    "\n",
    "\n",
    "b1 = Button(window,text='Execute',command=msg)\n",
    "b1.grid(row=1,column=1)\n",
    "\n",
    "\n",
    "l1=Label(window,text='')\n",
    "l1.grid(row=2,column=1)\n",
    "\n",
    "window.mainloop()\n",
    "    "
   ]
  },
  {
   "cell_type": "markdown",
   "id": "40938c81",
   "metadata": {},
   "source": [
    "# 4Q)Create a tkinter application to accept radius of a circle and display the area.\n"
   ]
  },
  {
   "cell_type": "code",
   "execution_count": 22,
   "id": "fd097ce8",
   "metadata": {},
   "outputs": [],
   "source": [
    "Window = Tk()\n",
    "def area():\n",
    "    area_c = float(r.get())*float(r.get())*3.14\n",
    "    t1.delete('1.0',END)\n",
    "    t1.insert(END,area_c)\n",
    "    \n",
    "    \n",
    "l1 =Label(window,text='Enter the radius for circle :')\n",
    "l1.grid(row=0,column=0)\n",
    "\n",
    "r=StringVar()\n",
    "\n",
    "e1 = Entry(window,textvariable =r)\n",
    "e1.grid(row=0,column=1)\n",
    "\n",
    "l2 = Label(window,text='Area of circle =')\n",
    "l2.grid(row=1,column=0)\n",
    "\n",
    "t1 = Text(window,height=1,width=15)\n",
    "t1.grid(row=1,column=1)\n",
    "\n",
    "b1 =Button(window,text = 'Calculate',command =area)\n",
    "b1.grid(row=3,column=1)\n",
    "\n",
    "window.mainloop()"
   ]
  },
  {
   "cell_type": "markdown",
   "id": "77b85d30",
   "metadata": {},
   "source": [
    "# 5Q)Create a tkinter application to accept temperature in Celsius and convert and display the temperature in Fahrenheit"
   ]
  },
  {
   "cell_type": "code",
   "execution_count": null,
   "id": "9847e30a",
   "metadata": {},
   "outputs": [],
   "source": [
    "window = Tk()\n",
    "def temp_f():\n",
    "    f = (float(e1_var.get())*9/5)+35\n",
    "    t1.delete('1.0',END)\n",
    "    t1.insert(END,f)\n",
    "    \n",
    "l1 = Label(Window,text ='Enter the temperature in Celcius :')\n",
    "l1.grid(row=0,cloumn=0)\n",
    "\n",
    "e1_Var = StrinVar()\n",
    "\n",
    "e1 = Entry(window,textvariable = e1_var)\n",
    "e1.grid(row=0,cloumn=1)\n",
    "\n",
    "l2 = Label(window,text = 'Temprature in Fahrenheit is :')\n",
    "l2.grid(row=1,column=0)\n",
    "\n",
    "\n",
    "t1 = Text(window,height=1,width=20)\n",
    "t1.grid(row=1,column=1)\n",
    "\n",
    "b1 = Button(window,text='Convert',command=temp_f)\n",
    "b1.grid(row=2,column=1)\n",
    "\n",
    "l2 = Label(window,text='Area = ')\n",
    "l2.grid(row=4,column=0)\n",
    "\n",
    "t1 = Text(window,height=1,width=15)\n",
    "t1.grid(row=4,column=1)\n",
    "\n",
    "window.mainloop()"
   ]
  },
  {
   "cell_type": "markdown",
   "id": "c4a30cd8",
   "metadata": {},
   "source": [
    "# 6Q)Create a tkinter application to accept distance in kilometers and convert and display distance in miles"
   ]
  },
  {
   "cell_type": "code",
   "execution_count": null,
   "id": "97cf7f1e",
   "metadata": {},
   "outputs": [],
   "source": [
    "window = Tk()\n",
    "def temp_f():\n",
    "    f = (float(e1_var.get())*9/5)+32\n",
    "    t1.delete('1.0',END)\n",
    "    t1.insert(END,f)\n",
    "    \n",
    "l1 = Label(Window,text ='Enter the temperature in Celcius :')\n",
    "l1.grid(row=0,cloumn=0)\n",
    "\n",
    "e1_Var = StrinVar()\n",
    "\n",
    "e1 = Entry(window,textvariable = e1_var)\n",
    "e1.grid(row=0,cloumn=1)\n",
    "\n",
    "l2 = Label(window,text = 'Temprature in Fahrenheit is :')\n",
    "l2.grid(row=1,column=0)\n",
    "\n",
    "\n",
    "t1 = Text(window,height=1,width=20)\n",
    "t1.grid(row=1,column=1)\n",
    "\n",
    "b1 = Button(window,text='Convert',command=temp_f)\n",
    "b1.grid(row=2,column=1)\n",
    "\n",
    "l2 = Label(window,text='Area = ')\n",
    "l2.grid(row=1,column=0)\n",
    "\n",
    "t1 = Text(window,height=1,width=15)\n",
    "t1.grid(row=1,column=1)\n",
    "\n",
    "window.mainloop()"
   ]
  },
  {
   "cell_type": "markdown",
   "id": "58c0cbf7",
   "metadata": {},
   "source": [
    "# 7Q)Create a tkinter application to display a menu with three items. A separate message should be display when each of the three menu items is clicked."
   ]
  },
  {
   "cell_type": "code",
   "execution_count": 7,
   "id": "2f6d0f95",
   "metadata": {},
   "outputs": [
    {
     "name": "stdout",
     "output_type": "stream",
     "text": [
      "You selected item 1!\n",
      "You selected item 2!\n",
      "You selected item 3!\n",
      "You selected item 2!\n"
     ]
    }
   ],
   "source": [
    "window = Tk()\n",
    "def item1():\n",
    "    print('You selected item 1!')\n",
    "def item2():\n",
    "    print('You selected item 2!')\n",
    "def item3():\n",
    "    print('You selected item 3!')\n",
    "menubar = Menu(window)\n",
    "menufile = Menu(menubar)\n",
    "menufile.add_command(label = 'Item1',command = item1)\n",
    "menufile.add_separator()\n",
    "menufile.add_command(label = 'Item2',command = item2)\n",
    "menufile.add_separator()\n",
    "menufile.add_command(label = 'Item3',command = item3)\n",
    "menufile.add_separator()\n",
    "menubar.add_cascade(label = 'File',menu = menufile)\n",
    "window.config(menu=menubar)\n",
    "window.mainloop()"
   ]
  },
  {
   "cell_type": "code",
   "execution_count": null,
   "id": "3551ea5f",
   "metadata": {},
   "outputs": [],
   "source": []
  },
  {
   "cell_type": "markdown",
   "id": "e297465e",
   "metadata": {},
   "source": [
    "# 8Q)Create a tkinter application to display a radio button group with three items. A separate message should be display when each of the three radio buttons items is clicked"
   ]
  },
  {
   "cell_type": "code",
   "execution_count": 17,
   "id": "d1029a84",
   "metadata": {},
   "outputs": [],
   "source": [
    "window = Tk()\n",
    "def sel():\n",
    "    selection = 'You selected' + var.get() + 'colour'\n",
    "    l1.config(text=selection)\n",
    "\n",
    "var = StringVar()\n",
    "\n",
    "R1 = Radiobutton(window,text = 'Pink',variable = var, value = 'Pink',command = sel)\n",
    "R1.pack()\n",
    "\n",
    "R2 = Radiobutton(window,text = 'Purple',variable = var, value = 'Purple',command = sel)\n",
    "R2.pack()\n",
    "\n",
    "R3 = Radiobutton(window,text = 'Orange',variable = var, value = 'Orange',command = sel)\n",
    "R3.pack()\n",
    "\n",
    "l1 = Label(window)\n",
    "l1.pack()\n",
    "\n",
    "window.mainloop()"
   ]
  },
  {
   "cell_type": "markdown",
   "id": "1ced66df",
   "metadata": {},
   "source": [
    "# 9Q)Create a tkinter application to display three check boxes. A separate message should be display when each of the three check boxes items is selected."
   ]
  },
  {
   "cell_type": "code",
   "execution_count": 12,
   "id": "b036c1fb",
   "metadata": {},
   "outputs": [],
   "source": [
    "window = Tk()\n",
    "def opt1():\n",
    "    if(c1_var.get()==1):\n",
    "        selection='You selected option1'\n",
    "    else:\n",
    "        selection = 'You de-selected option1'\n",
    "    l1.config(text=selection)\n",
    "def opt2():\n",
    "    if(c2_var.get()==1):\n",
    "        selection ='You selected option2'\n",
    "    else:\n",
    "        selection = 'You de-selected option2'\n",
    "    l1.config(text=selection)\n",
    "def opt3():\n",
    "    if(c3_var.get()==1):\n",
    "        selection ='You selected option3'\n",
    "    else:\n",
    "        selection = 'You de-selected option3'\n",
    "    l1.config(text=selection)\n",
    "\n",
    "c1_var = IntVar()\n",
    "c2_var = IntVar()\n",
    "c3_var = IntVar()\n",
    "\n",
    "c1 = Checkbutton(window,text = 'option1',variable=c1_var,onvalue=1,offvalue=0,command = opt1)\n",
    "c1.pack()\n",
    "\n",
    "c2 = Checkbutton(window,text = 'option',variable=c2_var,offvalue=0,command = opt2)\n",
    "c2.pack() \n",
    "\n",
    "c3 = Checkbutton(window,text = 'option3',variable=c3_var,onvalue=1,offvalue=0,command = opt3)\n",
    "c3.pack()\n",
    "\n",
    "l1 = Label(window)\n",
    "l1.pack()\n",
    "\n",
    "window.mainloop()"
   ]
  },
  {
   "cell_type": "code",
   "execution_count": null,
   "id": "efb56c60",
   "metadata": {},
   "outputs": [],
   "source": []
  },
  {
   "cell_type": "markdown",
   "id": "dbc2c4d3",
   "metadata": {},
   "source": [
    "# 10Q) Create a tkinter application which contains a list box with five items. Whenever an item in the list box is selected, the item’s text should be displayed"
   ]
  },
  {
   "cell_type": "code",
   "execution_count": 16,
   "id": "7560a02f",
   "metadata": {},
   "outputs": [
    {
     "name": "stdout",
     "output_type": "stream",
     "text": [
      "Mumbai\n",
      "Hyderabad\n",
      "Mumbai\n"
     ]
    }
   ],
   "source": [
    "window = Tk()\n",
    "\n",
    "def show_item():\n",
    "    print(l1.get(ACTIVE))\n",
    "    \n",
    "l1 = Listbox(window,height=5)\n",
    "l1.pack()\n",
    "\n",
    "my_list = ['Pune','Nashik','Mumbai','Delhi','Hyderabad']\n",
    "\n",
    "for item in my_list:\n",
    "    l1.insert(END,item)\n",
    "\n",
    "b1 = Button(window,text ='Show',bg='Violet',command = show_item)\n",
    "b1.pack()\n",
    "\n",
    "window.mainloop()"
   ]
  },
  {
   "cell_type": "code",
   "execution_count": null,
   "id": "43e9debc",
   "metadata": {},
   "outputs": [],
   "source": []
  },
  {
   "cell_type": "code",
   "execution_count": null,
   "id": "49237b7e",
   "metadata": {},
   "outputs": [],
   "source": []
  },
  {
   "cell_type": "code",
   "execution_count": null,
   "id": "cafd95eb",
   "metadata": {},
   "outputs": [],
   "source": []
  },
  {
   "cell_type": "code",
   "execution_count": null,
   "id": "2b21e861",
   "metadata": {},
   "outputs": [],
   "source": []
  }
 ],
 "metadata": {
  "kernelspec": {
   "display_name": "Python 3 (ipykernel)",
   "language": "python",
   "name": "python3"
  },
  "language_info": {
   "codemirror_mode": {
    "name": "ipython",
    "version": 3
   },
   "file_extension": ".py",
   "mimetype": "text/x-python",
   "name": "python",
   "nbconvert_exporter": "python",
   "pygments_lexer": "ipython3",
   "version": "3.11.4"
  }
 },
 "nbformat": 4,
 "nbformat_minor": 5
}
