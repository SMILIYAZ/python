{
 "cells": [
  {
   "cell_type": "markdown",
   "id": "89f0fcba",
   "metadata": {},
   "source": [
    "# 1Q\n",
    "\n"
   ]
  },
  {
   "cell_type": "code",
   "execution_count": 6,
   "id": "098fe769",
   "metadata": {},
   "outputs": [
    {
     "name": "stdout",
     "output_type": "stream",
     "text": [
      "11\n",
      "9\n",
      "89\n"
     ]
    }
   ],
   "source": [
    "for num in [20, 11, 9, 66, 4, 89, 44]:\n",
    "    if num%2 == 0:\n",
    "        continue\n",
    "    print(num)"
   ]
  },
  {
   "cell_type": "markdown",
   "id": "be52e3a8",
   "metadata": {},
   "source": [
    "# 2Q"
   ]
  },
  {
   "cell_type": "code",
   "execution_count": 10,
   "id": "ef719d9c",
   "metadata": {},
   "outputs": [
    {
     "name": "stdout",
     "output_type": "stream",
     "text": [
      "12 is not a prime number\n"
     ]
    }
   ],
   "source": [
    "#2Q\n",
    "num = 12\n",
    "if num > 1:\n",
    "    for i in range(2, int(num/2)+1):\n",
    "        if (num % i) == 0:\n",
    "            print(num, \"is not a prime number\")\n",
    "            break\n",
    "    else:\n",
    "        print(num, \"is a prime number\")\n",
    "else:\n",
    "    print(num, \"is not a prime number\")"
   ]
  },
  {
   "cell_type": "markdown",
   "id": "92653649",
   "metadata": {},
   "source": [
    "# 3Q"
   ]
  },
  {
   "cell_type": "code",
   "execution_count": 11,
   "id": "054dd423",
   "metadata": {},
   "outputs": [
    {
     "name": "stdout",
     "output_type": "stream",
     "text": [
      "Enter the value of 'n': 10\n",
      "Fibonacci Series:  0 1 1 2 3 5 8 13 21 34 "
     ]
    }
   ],
   "source": [
    "#3Q\n",
    "n = int(input(\"Enter the value of 'n': \"))\n",
    "a = 0\n",
    "b = 1\n",
    "sum = 0\n",
    "count = 1\n",
    "print(\"Fibonacci Series: \", end = \" \")\n",
    "while(count <= n):\n",
    "    print(sum, end = \" \")\n",
    "    count += 1\n",
    "    a = b\n",
    "    b = sum\n",
    "    sum = a + b"
   ]
  },
  {
   "cell_type": "markdown",
   "id": "eb73500d",
   "metadata": {},
   "source": [
    "# 4Q"
   ]
  },
  {
   "cell_type": "code",
   "execution_count": 17,
   "id": "cfad688a",
   "metadata": {},
   "outputs": [
    {
     "name": "stdout",
     "output_type": "stream",
     "text": [
      "Enter Number of Term14\n",
      "Series are  4 \n",
      "Series sum = 4\n",
      "44 \n",
      "Series sum = 48\n",
      "444 \n",
      "Series sum = 492\n",
      "4444 \n",
      "Series sum = 4936\n",
      "44444 \n",
      "Series sum = 49380\n",
      "444444 \n",
      "Series sum = 493824\n",
      "4444444 \n",
      "Series sum = 4938268\n",
      "44444444 \n",
      "Series sum = 49382712\n",
      "444444444 \n",
      "Series sum = 493827156\n",
      "4444444444 \n",
      "Series sum = 4938271600\n"
     ]
    }
   ],
   "source": [
    "\n",
    "num=int(input(\"Enter Number of Term\"))\n",
    "s=0\n",
    "sum1=0\n",
    "print(\"Series are \",end=\" \")\n",
    "for i in range (4,num):\n",
    "    s=s*10+4\n",
    "    print(s,end=\" \")\n",
    "    sum1=sum1+s\n",
    "    print()\n",
    "    print(\"Series sum =\",sum1)"
   ]
  },
  {
   "cell_type": "markdown",
   "id": "3a8471fd",
   "metadata": {},
   "source": [
    "# 5Q"
   ]
  },
  {
   "cell_type": "code",
   "execution_count": 1,
   "id": "2aa6e750",
   "metadata": {},
   "outputs": [
    {
     "name": "stdout",
     "output_type": "stream",
     "text": [
      "7x1=7\n",
      "7x2=14\n",
      "7x3=21\n",
      "7x4=28\n",
      "7x5=35\n",
      "7x6=42\n",
      "7x7=49\n",
      "7x8=56\n",
      "7x9=63\n",
      "7x10=70\n"
     ]
    }
   ],
   "source": [
    "\n",
    "def multiplication_table(number):\n",
    "\tmultiplier = 1\n",
    "\twhile multiplier <= 11:\n",
    "\t\tresult =  number*multiplier\n",
    "\t\tif result>70 :\n",
    "\t\t\tbreak\n",
    "\t\tprint(str(number) + \"x\" + str(multiplier) + \"=\" + str(result))\n",
    "\t\tmultiplier += 1\n",
    "\n",
    "multiplication_table(7) \n",
    "\n"
   ]
  },
  {
   "cell_type": "markdown",
   "id": "257ced0d",
   "metadata": {},
   "source": [
    "# 6Q"
   ]
  },
  {
   "cell_type": "code",
   "execution_count": 2,
   "id": "d62b7eab",
   "metadata": {},
   "outputs": [
    {
     "name": "stdout",
     "output_type": "stream",
     "text": [
      "3439\n"
     ]
    }
   ],
   "source": [
    "\n",
    "def contains3(n): \n",
    "  if n: \n",
    "    if n % 10 == 3: \n",
    "      return True \n",
    "    else: \n",
    "      return contains3(n // 10) \n",
    "  else: \n",
    "    return False \n",
    " \n",
    "n = 0 \n",
    "for i in range(1, 10000): \n",
    "  if contains3(i): \n",
    "    n += 1 \n",
    "print(n) "
   ]
  },
  {
   "cell_type": "markdown",
   "id": "1cb9b9e2",
   "metadata": {},
   "source": [
    "# 8Q"
   ]
  },
  {
   "cell_type": "code",
   "execution_count": 5,
   "id": "7240750f",
   "metadata": {},
   "outputs": [
    {
     "name": "stdout",
     "output_type": "stream",
     "text": [
      "how many numbers you want to calculate the sum of starting with 1 :10\n",
      "sum of the first 10 natural number is : 55\n"
     ]
    }
   ],
   "source": [
    "n=int(input(\"how many numbers you want to calculate the sum of starting with 1 :\"))\n",
    "sum=0\n",
    "i=1\n",
    "while(i<=n):\n",
    "    sum=sum+i\n",
    "    i=i+1\n",
    "print(\"sum of the first\",n,\"natural number is :\",sum)\n",
    "    "
   ]
  },
  {
   "cell_type": "markdown",
   "id": "8f88a7e9",
   "metadata": {},
   "source": [
    "# 9Q"
   ]
  },
  {
   "cell_type": "code",
   "execution_count": 7,
   "id": "df8f3f17",
   "metadata": {},
   "outputs": [
    {
     "name": "stdout",
     "output_type": "stream",
     "text": [
      "Enter a number: 10\n",
      "The factorial of 10 is 3628800\n"
     ]
    }
   ],
   "source": [
    "num = int(input(\"Enter a number: \"))    \n",
    "factorial = 1    \n",
    "if num < 0:\n",
    "    print(\" Factorial does not exist for negative numbers\")    \n",
    "elif num == 0:\n",
    "    print(\"The factorial of 0 is 1\")    \n",
    "else: \n",
    "    for i in range(1,num + 1):\n",
    "        factorial = factorial*i    \n",
    "    print(\"The factorial of\",num,\"is\",factorial)  "
   ]
  },
  {
   "cell_type": "markdown",
   "id": "c980d076",
   "metadata": {},
   "source": [
    "# #10Q"
   ]
  },
  {
   "cell_type": "code",
   "execution_count": 8,
   "id": "95931c9b",
   "metadata": {},
   "outputs": [
    {
     "name": "stdout",
     "output_type": "stream",
     "text": [
      "9339\n",
      "45254\n"
     ]
    }
   ],
   "source": [
    "def reverseDigits(num):\n",
    "    rev_num = 0\n",
    "    while (num > 0):\n",
    "        rev_num = rev_num * 10 + num % 10\n",
    "        num = num//10\n",
    "    return rev_num\n",
    " \n",
    "# Function to check whether \n",
    "# the number is palindrome or not\n",
    "def isPalindrome(num):\n",
    "    return (reverseDigits(num) == num)\n",
    " \n",
    "# Reverse and Add Function\n",
    "def ReverseandAdd(num):\n",
    "    rev_num = 0\n",
    "    while (num <= 4294967295):\n",
    "        # Reversing the digits of the number\n",
    "        rev_num = reverseDigits(num)\n",
    " \n",
    "        # Adding the reversed number \n",
    "        # with the original\n",
    "        num = num + rev_num\n",
    " \n",
    "        # Checking whether the number \n",
    "        # is palindrome or not\n",
    "        if(isPalindrome(num)):\n",
    "            print (num)\n",
    "            break\n",
    "        else:\n",
    "            if (num > 4294967295):\n",
    "                print (\"No palindrome exist\")\n",
    " \n",
    "# Driver Code\n",
    "ReverseandAdd(195)\n",
    "ReverseandAdd(265)"
   ]
  },
  {
   "cell_type": "code",
   "execution_count": null,
   "id": "835db220",
   "metadata": {},
   "outputs": [],
   "source": []
  },
  {
   "cell_type": "code",
   "execution_count": null,
   "id": "ca01d49e",
   "metadata": {},
   "outputs": [],
   "source": []
  },
  {
   "cell_type": "markdown",
   "id": "ad09b847",
   "metadata": {},
   "source": [
    "# 11Q"
   ]
  },
  {
   "cell_type": "code",
   "execution_count": 10,
   "id": "fcba45b9",
   "metadata": {},
   "outputs": [
    {
     "name": "stdout",
     "output_type": "stream",
     "text": [
      "0 3\n",
      "1 3\n",
      "2 3\n",
      "A\n",
      "d\n",
      "i\n",
      "y\n",
      "a\n",
      "Over\n"
     ]
    }
   ],
   "source": [
    "for a in range(5):\n",
    "    for b in range(5):   #break It eliminates the execution of remaining iteration of loop\n",
    "        if b == 3:\n",
    "            break\n",
    "    if a == 3:\n",
    "        break\n",
    "    print(a, b)\n",
    "\n",
    "for char in \"Aditya\":   #continue It will terminate only the current iteration of loop.\n",
    "    if char == \"t\":\n",
    "        continue\n",
    "    print(char)\n",
    "\n",
    "print(\"Over\")"
   ]
  },
  {
   "cell_type": "markdown",
   "id": "9c8e94be",
   "metadata": {},
   "source": [
    "# 12Q"
   ]
  },
  {
   "cell_type": "code",
   "execution_count": 12,
   "id": "68b096a1",
   "metadata": {},
   "outputs": [
    {
     "name": "stdout",
     "output_type": "stream",
     "text": [
      "Enter starting principle please. 10000\n",
      "Enter number of compounding periods per year. 12\n",
      "Enter annual interest rate. e.g. 3 for 3% 0.4\n",
      "Enter the amount of years. 10000\n",
      "The final amount after 10000 years is 2.3382159721836692e+21\n"
     ]
    }
   ],
   "source": [
    "P = int(input(\"Enter starting principle please. \"))\n",
    "n = int(input(\"Enter number of compounding periods per year. \"))\n",
    "r = float(input(\"Enter annual interest rate. e.g. 3 for 3% \"))\n",
    "y = int(input(\"Enter the amount of years. \"))\n",
    "\n",
    "FV = P * (((1 + ((r/100.0)/n)) ** (n*y)))\n",
    "\n",
    "print (\"The final amount after\", y, \"years is\", FV)"
   ]
  },
  {
   "cell_type": "markdown",
   "id": "1f50fd36",
   "metadata": {},
   "source": [
    "# 13Q"
   ]
  },
  {
   "cell_type": "code",
   "execution_count": 14,
   "id": "6c192b72",
   "metadata": {},
   "outputs": [
    {
     "name": "stdout",
     "output_type": "stream",
     "text": [
      "Enter a choice (rock, paper, scissors): rock\n",
      "\n",
      "You chose rock, computer chose rock.\n",
      "\n",
      "Both players selected rock. It's a tie!\n"
     ]
    }
   ],
   "source": [
    "import random\n",
    "\n",
    "user_action = input(\"Enter a choice (rock, paper, scissors): \")\n",
    "possible_actions = [\"rock\", \"paper\", \"scissors\"]\n",
    "computer_action = random.choice(possible_actions)\n",
    "print(f\"\\nYou chose {user_action}, computer chose {computer_action}.\\n\")\n",
    "\n",
    "if user_action == computer_action:\n",
    "    print(f\"Both players selected {user_action}. It's a tie!\")\n",
    "elif user_action == \"rock\":\n",
    "    if computer_action == \"scissors\":\n",
    "        print(\"Rock smashes scissors! You win!\")\n",
    "    else:\n",
    "        print(\"Paper covers rock! You lose.\")\n",
    "elif user_action == \"paper\":\n",
    "    if computer_action == \"rock\":\n",
    "        print(\"Paper covers rock! You win!\")\n",
    "    else:\n",
    "        print(\"Scissors cuts paper! You lose.\")\n",
    "elif user_action == \"scissors\":\n",
    "    if computer_action == \"paper\":\n",
    "        print(\"Scissors cuts paper! You win!\")\n",
    "    else:\n",
    "        print(\"Rock smashes scissors! You lose.\")"
   ]
  },
  {
   "cell_type": "markdown",
   "id": "f44cb1b9",
   "metadata": {},
   "source": []
  },
  {
   "cell_type": "markdown",
   "id": "a20a687d",
   "metadata": {},
   "source": [
    "# 14Q"
   ]
  },
  {
   "cell_type": "code",
   "execution_count": 3,
   "id": "20cc1d36",
   "metadata": {},
   "outputs": [
    {
     "name": "stdout",
     "output_type": "stream",
     "text": [
      "enter the number of terms to find the sum of series:- 6\n",
      "sum of series :- 21\n"
     ]
    }
   ],
   "source": [
    "n=int(input(\"enter the number of terms to find the sum of series:- \"))\n",
    "i=1\n",
    "sum=0\n",
    "while(i<=n):\n",
    "    sum=sum+i\n",
    "    i=i+1\n",
    "print(\"sum of series :-\",sum)\n",
    "    \n"
   ]
  },
  {
   "cell_type": "markdown",
   "id": "47a79052",
   "metadata": {},
   "source": [
    "# 15Q"
   ]
  },
  {
   "cell_type": "code",
   "execution_count": 5,
   "id": "0fe8bad3",
   "metadata": {},
   "outputs": [
    {
     "name": "stdout",
     "output_type": "stream",
     "text": [
      "1 4\n",
      "1 5\n",
      "2 4\n",
      "2 5\n"
     ]
    }
   ],
   "source": [
    "x = [1, 2]\n",
    "y = [4, 5]\n",
    " \n",
    "for i in x:\n",
    "  for j in y:\n",
    "    print(i, j)"
   ]
  },
  {
   "cell_type": "code",
   "execution_count": null,
   "id": "d056f794",
   "metadata": {},
   "outputs": [],
   "source": []
  },
  {
   "cell_type": "code",
   "execution_count": null,
   "id": "665547d8",
   "metadata": {},
   "outputs": [],
   "source": []
  },
  {
   "cell_type": "code",
   "execution_count": null,
   "id": "4cc4a28d",
   "metadata": {},
   "outputs": [],
   "source": []
  }
 ],
 "metadata": {
  "kernelspec": {
   "display_name": "Python 3 (ipykernel)",
   "language": "python",
   "name": "python3"
  },
  "language_info": {
   "codemirror_mode": {
    "name": "ipython",
    "version": 3
   },
   "file_extension": ".py",
   "mimetype": "text/x-python",
   "name": "python",
   "nbconvert_exporter": "python",
   "pygments_lexer": "ipython3",
   "version": "3.11.4"
  }
 },
 "nbformat": 4,
 "nbformat_minor": 5
}
