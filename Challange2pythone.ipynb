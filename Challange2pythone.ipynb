{
 "cells": [
  {
   "cell_type": "code",
   "execution_count": 1,
   "id": "a79eefda",
   "metadata": {},
   "outputs": [
    {
     "name": "stdout",
     "output_type": "stream",
     "text": [
      "hello world\n",
      "welcome to python language\n",
      "\n",
      "this is a multi line string\n",
      "       \n"
     ]
    }
   ],
   "source": [
    "#1Q\n",
    "print('hello world')\n",
    "print(\"welcome to python language\")\n",
    "print('''\n",
    "this is a multi line string\n",
    "       ''')"
   ]
  },
  {
   "cell_type": "code",
   "execution_count": 2,
   "id": "547a84db",
   "metadata": {},
   "outputs": [
    {
     "name": "stdout",
     "output_type": "stream",
     "text": [
      "H W\n",
      "o o\n",
      "llorld\n",
      "!dlroW olleH\n",
      "World!\n",
      "Hello\n"
     ]
    }
   ],
   "source": [
    "#2Q\n",
    "string='Hello World!'\n",
    "print(string[0]+' '+string[6])\n",
    "print(string[4]+' '+string[7])\n",
    "print(string[2:4]+string[7:11])\n",
    "print(string[::-1])\n",
    "print (string[6:])\n",
    "print(string[:5])"
   ]
  },
  {
   "cell_type": "code",
   "execution_count": 7,
   "id": "142221c9",
   "metadata": {},
   "outputs": [
    {
     "name": "stdout",
     "output_type": "stream",
     "text": [
      "the alphabetic letter is: False\n",
      "the lowercase letter is: False\n",
      "the uppercase letter is: False\n",
      "Welcome to python class the alphanumeric is: False\n",
      "the alphabetic letter is: False\n",
      "the lowercase letter is: False\n",
      "the uppercase letter is: False\n",
      "the alphabetic letter is: False\n",
      "the lowercase letter is: False\n",
      "the uppercase letter is: False\n",
      "the sentence starts with: True\n",
      "the sentence ends with: False\n",
      "the alphanumeric is: True\n",
      "the digits is: True\n",
      "the alphanumeric is: False\n",
      "the digits is: False\n"
     ]
    }
   ],
   "source": [
    "#3Q\n",
    "str1 = 'Welcome to python class'\n",
    "print('the alphabetic letter is:',str1.isalpha())\n",
    "print('the lowercase letter is:',str1.islower())\n",
    "print('the uppercase letter is:',str1.isupper())\n",
    "print(str1,'the alphanumeric is:',str1.isalnum())\n",
    "\n",
    "\n",
    "str2 = 'Hello World!'\n",
    "print('the alphabetic letter is:',str2.isalpha())\n",
    "print('the lowercase letter is:',str2.islower())\n",
    "print('the uppercase letter is:',str2.isupper())\n",
    "\n",
    "\n",
    "str3 = 'Now is the best time ever!'\n",
    "print('the alphabetic letter is:',str1.isalpha())\n",
    "print('the lowercase letter is:',str1.islower())\n",
    "print('the uppercase letter is:',str1.isupper())\n",
    "print('the sentence starts with:',str3.startswith('Now'))\n",
    "print('the sentence ends with:',str3.endswith('Now'))\n",
    "\n",
    "str4 ='500017'\n",
    "print('the alphanumeric is:',str4.isalnum())\n",
    "print('the digits is:',str4.isdigit())\n",
    "\n",
    "\n",
    "str5 = 'Iphone 6'\n",
    "print('the alphanumeric is:',str5.isalnum())\n",
    "print('the digits is:',str5.isdigit())"
   ]
  },
  {
   "cell_type": "code",
   "execution_count": 8,
   "id": "9438e796",
   "metadata": {},
   "outputs": [
    {
     "name": "stdout",
     "output_type": "stream",
     "text": [
      "Enter the your own sentence:hello the world\n",
      "The input into title case: False\n"
     ]
    }
   ],
   "source": [
    "#4Q\n",
    "str1=input('Enter the your own sentence:')\n",
    "print('The input into title case:',str1.istitle())"
   ]
  },
  {
   "cell_type": "code",
   "execution_count": 11,
   "id": "919ffb9f",
   "metadata": {},
   "outputs": [
    {
     "name": "stdout",
     "output_type": "stream",
     "text": [
      "Enter a value :5\n",
      "the integer is odd\n"
     ]
    }
   ],
   "source": [
    "#5Q\n",
    "x=int(input('Enter a value :'))\n",
    "#x=5\n",
    "if x%2==0:\n",
    "    print('the integer is even')\n",
    "else:\n",
    "    print('the integer is odd')"
   ]
  },
  {
   "cell_type": "code",
   "execution_count": 13,
   "id": "68185b41",
   "metadata": {},
   "outputs": [
    {
     "name": "stdout",
     "output_type": "stream",
     "text": [
      "Enter a alphabet letter :r\n",
      "r the entered letter is a consonant\n"
     ]
    }
   ],
   "source": [
    "#6Q\n",
    "x1=input('Enter a alphabet letter :')\n",
    "if x1=='a' or x1=='e' or x1=='i' or x1=='o' or x1=='u':\n",
    "    print(x1,'the  entered letter is a vowel')\n",
    "else:\n",
    "    print(x1,'the entered letter is a consonant')"
   ]
  },
  {
   "cell_type": "code",
   "execution_count": 14,
   "id": "c65568c9",
   "metadata": {},
   "outputs": [
    {
     "name": "stdout",
     "output_type": "stream",
     "text": [
      "enter the name of the month :april\n",
      "this month falls in 30 days\n"
     ]
    }
   ],
   "source": [
    "#7Q\n",
    "month=input('enter the name of the month :')\n",
    "if month =='january' or month=='march' or month=='may' or month=='july' or month=='august' or month=='october' or month=='december':\n",
    "  print('this month falls in 31 days')\n",
    "elif month == 'april' or month=='june' or month=='september' or month=='november':\n",
    "     print('this month falls in 30 days')\n",
    "elif month=='february':\n",
    "  print ('this falls in 28 days or 29 days')\n",
    "else:\n",
    "    print('this is not a month')"
   ]
  },
  {
   "cell_type": "code",
   "execution_count": 16,
   "id": "be555487",
   "metadata": {},
   "outputs": [
    {
     "name": "stdout",
     "output_type": "stream",
     "text": [
      "Enter the value of A side triangle :12\n",
      "Enter the value of B side triangle :12\n",
      "Enter the value of C side triangle :12\n",
      " All 3 sides of an equilateral triangle have the same length\n"
     ]
    }
   ],
   "source": [
    "#8Q\n",
    "A=input('Enter the value of A side triangle :')\n",
    "B=input('Enter the value of B side triangle :')\n",
    "C=input('Enter the value of C side triangle :')\n",
    "if A==B and B==C and A==C:\n",
    "    print(' All 3 sides of an equilateral triangle have the same length')\n",
    "else:\n",
    "    if A==B and B==C or A==C:\n",
    "        print('An isosceles triangle has two sides that are the same length')\n",
    "    else:\n",
    "        print(' If all of the sides have different lengths then the triangle is scalene')"
   ]
  },
  {
   "cell_type": "code",
   "execution_count": 18,
   "id": "32e58c9b",
   "metadata": {},
   "outputs": [
    {
     "name": "stdout",
     "output_type": "stream",
     "text": [
      "Enter a year :2023\n",
      "2023 All other years are not leap years\n"
     ]
    }
   ],
   "source": [
    "#9Q\n",
    "year=int(input('Enter a year :'))\n",
    "if year%400==0:\n",
    "    print(year,'Any year that is divisble by 400 is leap year')\n",
    "elif year%100==0:\n",
    "    print(year,'Of the remaining years, any year that is divisible by 100 is not a leap year')\n",
    "elif year%4==0:\n",
    "    print(year,'the remaining years, any year that is divisible by 4 is a leap year')\n",
    "else:\n",
    "    print(year,('All other years are not leap years'))"
   ]
  },
  {
   "cell_type": "code",
   "execution_count": 19,
   "id": "d19a610e",
   "metadata": {},
   "outputs": [
    {
     "name": "stdout",
     "output_type": "stream",
     "text": [
      "enter the value of a :12\n",
      "enter the value of b :12\n",
      "enter the value of c :12\n",
      "values are not real root\n"
     ]
    }
   ],
   "source": [
    "#10Q\n",
    "a=input('enter the value of a :')\n",
    "b=input('enter the value of b :')\n",
    "c=input('enter the value of c :')\n",
    "x=3\n",
    "if a*x**2+b*x+c==0:\n",
    "    print('the real roots')\n",
    "else:\n",
    "    print('values are not real root')"
   ]
  },
  {
   "cell_type": "code",
   "execution_count": null,
   "id": "314f55db",
   "metadata": {},
   "outputs": [],
   "source": []
  }
 ],
 "metadata": {
  "kernelspec": {
   "display_name": "Python 3 (ipykernel)",
   "language": "python",
   "name": "python3"
  },
  "language_info": {
   "codemirror_mode": {
    "name": "ipython",
    "version": 3
   },
   "file_extension": ".py",
   "mimetype": "text/x-python",
   "name": "python",
   "nbconvert_exporter": "python",
   "pygments_lexer": "ipython3",
   "version": "3.11.4"
  }
 },
 "nbformat": 4,
 "nbformat_minor": 5
}
