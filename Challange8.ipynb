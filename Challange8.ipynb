{
 "cells": [
  {
   "cell_type": "markdown",
   "id": "02bddde5",
   "metadata": {},
   "source": [
    "1Q)Write a program that accepts two integers and displays the result of dividing the first number by the second number. It should raise ZeroDivisionError if the denominator is zero."
   ]
  },
  {
   "cell_type": "code",
   "execution_count": 4,
   "id": "ef0de26a",
   "metadata": {},
   "outputs": [
    {
     "name": "stdout",
     "output_type": "stream",
     "text": [
      "Enter the First number10\n",
      "Enter the Secound number20\n",
      "0.5\n",
      "It is ok!\n",
      "Program End.\n"
     ]
    }
   ],
   "source": [
    "first_number=int(input('Enter the First number'))\n",
    "second_number=int(input('Enter the Secound number'))\n",
    "try:\n",
    "    result=first_number/second_number\n",
    "    print(result)\n",
    "except ZeroDivisionError as z:\n",
    "    raise ZeroDivisionError\n",
    "else:\n",
    "    print('It is ok!')\n",
    "finally:\n",
    "    print('Program End.')"
   ]
  },
  {
   "cell_type": "markdown",
   "id": "8481fdaf",
   "metadata": {},
   "source": [
    "2Q)Implement the above program with the help of Assertion"
   ]
  },
  {
   "cell_type": "code",
   "execution_count": 5,
   "id": "bdbe5d66",
   "metadata": {},
   "outputs": [
    {
     "name": "stdout",
     "output_type": "stream",
     "text": [
      "Enter the first number: 10\n",
      "Enter the secound number: 0\n"
     ]
    },
    {
     "ename": "AssertionError",
     "evalue": "Assertion Error occured!",
     "output_type": "error",
     "traceback": [
      "\u001b[1;31m---------------------------------------------------------------------------\u001b[0m",
      "\u001b[1;31mAssertionError\u001b[0m                            Traceback (most recent call last)",
      "Cell \u001b[1;32mIn[5], line 3\u001b[0m\n\u001b[0;32m      1\u001b[0m first_number\u001b[38;5;241m=\u001b[39m\u001b[38;5;28mint\u001b[39m(\u001b[38;5;28minput\u001b[39m(\u001b[38;5;124m'\u001b[39m\u001b[38;5;124mEnter the first number: \u001b[39m\u001b[38;5;124m'\u001b[39m))\n\u001b[0;32m      2\u001b[0m secound_number\u001b[38;5;241m=\u001b[39m\u001b[38;5;28mint\u001b[39m(\u001b[38;5;28minput\u001b[39m(\u001b[38;5;124m'\u001b[39m\u001b[38;5;124mEnter the secound number: \u001b[39m\u001b[38;5;124m'\u001b[39m))\n\u001b[1;32m----> 3\u001b[0m \u001b[38;5;28;01massert\u001b[39;00m secound_number \u001b[38;5;241m!=\u001b[39m\u001b[38;5;241m0\u001b[39m, \u001b[38;5;124m'\u001b[39m\u001b[38;5;124mAssertion Error occured!\u001b[39m\u001b[38;5;124m'\u001b[39m\n\u001b[0;32m      4\u001b[0m \u001b[38;5;28mprint\u001b[39m(first_number\u001b[38;5;241m/\u001b[39msecound_number)\n",
      "\u001b[1;31mAssertionError\u001b[0m: Assertion Error occured!"
     ]
    }
   ],
   "source": [
    "first_number=int(input('Enter the first number: '))\n",
    "secound_number=int(input('Enter the secound number: '))\n",
    "assert secound_number !=0, 'Assertion Error occured!'\n",
    "print(first_number/secound_number)"
   ]
  },
  {
   "cell_type": "markdown",
   "id": "10406802",
   "metadata": {},
   "source": [
    "3Q)Write a program that accepts n positive integers as input and prints their square. If a negative number is entered, then raise ValueError exception and display a relevant error message and make an exit."
   ]
  },
  {
   "cell_type": "code",
   "execution_count": 6,
   "id": "2aa85642",
   "metadata": {},
   "outputs": [
    {
     "name": "stdout",
     "output_type": "stream",
     "text": [
      "Enter the positive integers: 5\n",
      "The square of  5 is 25\n",
      "10\n",
      "The square of  10 is 100\n",
      "16\n",
      "The square of  16 is 256\n",
      "42\n",
      "The square of  42 is 1764\n",
      "0\n",
      "The square of  0 is 0\n",
      "6\n",
      "The square of  6 is 36\n",
      "-6\n",
      "Your Enter value is negative! Occured!\n",
      "Program Ends.\n"
     ]
    }
   ],
   "source": [
    "try:\n",
    "    n=int(input('Enter the positive integers: '))\n",
    "    while(n>=0):\n",
    "        print('The square of ',n,'is',n**2)\n",
    "        n=int(input())\n",
    "    raise ValueError('Your Enter value is negative!')\n",
    "except ValueError as VE:\n",
    "    print(VE, 'Occured!')\n",
    "finally:\n",
    "    print('Program Ends.')"
   ]
  },
  {
   "cell_type": "markdown",
   "id": "cd4e411a",
   "metadata": {},
   "source": [
    "4Q)Write a program that receives an integer as input and finds its factorial. If a non-integer input is entered, then report an error and accept the input again. Continue this process until correct input is entered."
   ]
  },
  {
   "cell_type": "code",
   "execution_count": 8,
   "id": "7c6e1ee4",
   "metadata": {},
   "outputs": [
    {
     "name": "stdout",
     "output_type": "stream",
     "text": [
      "Enter the number: 5.5\n",
      "invalid literal for int() with base 10: '5.5' is occured!\n",
      "Enter the number: 7.5\n",
      "invalid literal for int() with base 10: '7.5' is occured!\n",
      "Enter the number: 10\n",
      "3628800\n"
     ]
    }
   ],
   "source": [
    "while True:\n",
    "    try:\n",
    "        num=int(input('Enter the number: '))\n",
    "        fact=1\n",
    "        for i in range(1,num+1):\n",
    "            fact*=i\n",
    "        print(fact)\n",
    "        break\n",
    "    except ValueError as V:\n",
    "        print(V, 'is occured!')"
   ]
  },
  {
   "cell_type": "markdown",
   "id": "21bb8528",
   "metadata": {},
   "source": [
    "5Q)Create an iterator that returns numbers, starting with 1, and each sequence will increase by one (returning 1,2,3,4,5 etc.):"
   ]
  },
  {
   "cell_type": "code",
   "execution_count": 12,
   "id": "b78ccd8b",
   "metadata": {},
   "outputs": [
    {
     "name": "stdout",
     "output_type": "stream",
     "text": [
      "1\n",
      "2\n",
      "3\n",
      "4\n",
      "5\n"
     ]
    }
   ],
   "source": [
    "class sequence:\n",
    "    def __init__(self):\n",
    "        self._start=1\n",
    "    def __iter__(self):\n",
    "        return self\n",
    "    def __next__(self):\n",
    "        result=self._start\n",
    "        self._start+=1\n",
    "        return result\n",
    "myclass=sequence()\n",
    "myiter=iter(myclass)\n",
    "print(next(myiter))\n",
    "print(next(myiter))\n",
    "print(next(myiter))\n",
    "print(next(myiter))\n",
    "print(next(myiter))\n"
   ]
  },
  {
   "cell_type": "markdown",
   "id": "2cf5cc5c",
   "metadata": {},
   "source": [
    "6Q)Write a program that implements iterator class called Prime and which prints prime numbers up to n."
   ]
  },
  {
   "cell_type": "code",
   "execution_count": 15,
   "id": "bc705dcb",
   "metadata": {},
   "outputs": [
    {
     "name": "stdout",
     "output_type": "stream",
     "text": [
      "Enter the number: 25\n",
      "2\n",
      "3\n",
      "5\n",
      "7\n",
      "11\n",
      "13\n",
      "17\n",
      "19\n",
      "23\n"
     ]
    }
   ],
   "source": [
    "class prime:\n",
    "    def __init__(self,n):\n",
    "        self._n=n\n",
    "        self._start=2\n",
    "    def __iter__(self):\n",
    "        return self\n",
    "    def prime(self,num):\n",
    "        for i in range(2,num):\n",
    "            if num%i==0:\n",
    "                break\n",
    "        else:\n",
    "            return num \n",
    "    def __next__(self):\n",
    "        if self._start>self._n:\n",
    "            raise StopIteration\n",
    "        else:\n",
    "            output=self.prime(self._start)\n",
    "            self._start+=1\n",
    "            return output\n",
    "n=int(input('Enter the number: '))\n",
    "for i in prime(n):\n",
    "    if i!=None:\n",
    "        print(i)"
   ]
  },
  {
   "cell_type": "markdown",
   "id": "6d32f3d2",
   "metadata": {},
   "source": [
    "7Q)Define a class, Circle, which takes two arguments when defined — a sequence and a number. The idea is that the object will then return elements the defined number of times. If the number is greater than the number of elements, then the sequence repeats as necessary."
   ]
  },
  {
   "cell_type": "code",
   "execution_count": 17,
   "id": "2d97faf4",
   "metadata": {},
   "outputs": [
    {
     "name": "stdout",
     "output_type": "stream",
     "text": [
      "['a', 'b', 'c', 'a', 'b']\n"
     ]
    }
   ],
   "source": [
    "class CircleIterator():\n",
    "    def __init__(self, data, max_times):\n",
    "        self.data = data\n",
    "        self.max_times =max_times\n",
    "        self.index = 0\n",
    "    def __next__(self):\n",
    "        if self.index >= self.max_times:\n",
    "            raise StopIteration\n",
    "        value = self.data[self.index % len(self.data)]\n",
    "        self.index +=1\n",
    "        return value\n",
    "class Circle():\n",
    "    def __init__(self,data,max_times):\n",
    "        self.data = data\n",
    "        self.max_times = max_times\n",
    "    def __iter__(self):\n",
    "        return CircleIterator(self.data, self.max_times)\n",
    "c= Circle('abc',5)\n",
    "print(list(c))\n",
    "    "
   ]
  },
  {
   "cell_type": "markdown",
   "id": "367cf2b4",
   "metadata": {},
   "source": [
    "8Q)Write a Python program to demonstrate working of iterators using an example type that iterates from 10 to given value"
   ]
  },
  {
   "cell_type": "code",
   "execution_count": 19,
   "id": "6e268d14",
   "metadata": {},
   "outputs": [
    {
     "name": "stdout",
     "output_type": "stream",
     "text": [
      "Enter the number: 30\n",
      "10\n",
      "11\n",
      "12\n",
      "13\n",
      "14\n",
      "15\n",
      "16\n",
      "17\n",
      "18\n",
      "19\n",
      "20\n",
      "21\n",
      "22\n",
      "23\n",
      "24\n",
      "25\n",
      "26\n",
      "27\n",
      "28\n",
      "29\n",
      "30\n"
     ]
    }
   ],
   "source": [
    "class iterator:\n",
    "    def __init__(self,limit):\n",
    "        self._limit=limit\n",
    "        self._start=10\n",
    "    def __iter__(self):\n",
    "        return self\n",
    "    def __next__(self):\n",
    "        if self._limit<self._start:\n",
    "            raise StopIteration\n",
    "        else:\n",
    "            x=self._start\n",
    "            self._start+=1\n",
    "            return x\n",
    "n=int(input('Enter the number: '))\n",
    "if n>10:\n",
    "    for i in iterator(n):\n",
    "        print(i)\n",
    "else:\n",
    "    print('Please enter the number which is greater than 10!')"
   ]
  },
  {
   "cell_type": "markdown",
   "id": "0a1a7fae",
   "metadata": {},
   "source": [
    "9Q)Write a program to illustrate the concept of multiple decorators"
   ]
  },
  {
   "cell_type": "code",
   "execution_count": 23,
   "id": "ebc56b61",
   "metadata": {},
   "outputs": [
    {
     "name": "stdout",
     "output_type": "stream",
     "text": [
      "Enter the massage: hillo\n",
      "##################################################\n",
      "&&&&&&&&&&&&&&&&&&&&&&&&&&&&&&&&&&&&&&&&&&&&&&&&&&\n",
      "hillo\n",
      "&&&&&&&&&&&&&&&&&&&&&&&&&&&&&&&&&&&&&&&&&&&&&&&&&&\n",
      "##################################################\n"
     ]
    }
   ],
   "source": [
    "def Hashh(func):\n",
    "    def inner(*args):\n",
    "        print('#'*50)\n",
    "        func(*args)\n",
    "        print('#'*50)\n",
    "    return inner\n",
    "def and_and(func):\n",
    "    def inner(*args):\n",
    "        print('&'*50)\n",
    "        func(*args)\n",
    "        print('&'*50)\n",
    "    return inner\n",
    "@Hashh\n",
    "@and_and\n",
    "def statement(msg):\n",
    "    print(msg)\n",
    "msg=input('Enter the massage: ')\n",
    "statement(msg)"
   ]
  },
  {
   "cell_type": "markdown",
   "id": "ea26fc28",
   "metadata": {},
   "source": [
    "10Q)Write a decorator called timer that calculates the time required to execute a function. Its wrapper function called calculates should take all the parameters that are passed to the decorated function"
   ]
  },
  {
   "cell_type": "code",
   "execution_count": 24,
   "id": "928ae06e",
   "metadata": {},
   "outputs": [
    {
     "name": "stdout",
     "output_type": "stream",
     "text": [
      "Enter the masssage: Hello\n",
      "The time for exicution of program is:  2.5997869670391083e-06\n"
     ]
    },
    {
     "data": {
      "text/plain": [
       "'Hello'"
      ]
     },
     "execution_count": 24,
     "metadata": {},
     "output_type": "execute_result"
    }
   ],
   "source": [
    "import time\n",
    "def timer(func):\n",
    "    def inner(*args):\n",
    "        start_time=time.perf_counter()\n",
    "        value=func(*args)\n",
    "        end_time=time.perf_counter()\n",
    "        diff=end_time-start_time\n",
    "        print('The time for exicution of program is: ',diff)\n",
    "        return value\n",
    "    return inner\n",
    "@timer\n",
    "def statement(msg):\n",
    "    return msg\n",
    "msg=input('Enter the masssage: ')\n",
    "statement(msg)"
   ]
  },
  {
   "cell_type": "code",
   "execution_count": null,
   "id": "6902f78f",
   "metadata": {},
   "outputs": [],
   "source": []
  }
 ],
 "metadata": {
  "kernelspec": {
   "display_name": "Python 3 (ipykernel)",
   "language": "python",
   "name": "python3"
  },
  "language_info": {
   "codemirror_mode": {
    "name": "ipython",
    "version": 3
   },
   "file_extension": ".py",
   "mimetype": "text/x-python",
   "name": "python",
   "nbconvert_exporter": "python",
   "pygments_lexer": "ipython3",
   "version": "3.11.4"
  }
 },
 "nbformat": 4,
 "nbformat_minor": 5
}
