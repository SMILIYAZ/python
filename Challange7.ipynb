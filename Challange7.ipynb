{
 "cells": [
  {
   "cell_type": "markdown",
   "id": "52010d7b",
   "metadata": {},
   "source": [
    "# 1Q"
   ]
  },
  {
   "cell_type": "code",
   "execution_count": 10,
   "id": "16fd8b09",
   "metadata": {},
   "outputs": [
    {
     "name": "stdout",
     "output_type": "stream",
     "text": [
      "Input a number:- 150\n",
      "It is a positive Integer\n"
     ]
    }
   ],
   "source": [
    "num = float(input(\"Input a number:- \"))\n",
    "if num > 0:\n",
    "    print(\"It is a positive Integer\")\n",
    "\n",
    "elif num == 0:\n",
    "    print(\"It is zero\")\n",
    "else:\n",
    "  \n",
    "   print(\"It is a negative Integer\")\n"
   ]
  },
  {
   "cell_type": "markdown",
   "id": "fbd82cbf",
   "metadata": {},
   "source": [
    "# 2Q"
   ]
  },
  {
   "cell_type": "code",
   "execution_count": 1,
   "id": "c95168c4",
   "metadata": {},
   "outputs": [
    {
     "name": "stdout",
     "output_type": "stream",
     "text": [
      "enter the side of square:18\n",
      "Area of square is: 324.0\n",
      "\n",
      "Perimeter of square is: 72.0\n",
      "enter the radius of circle:32\n",
      "Area of circle is: 3215.36\n",
      "Perimter of circle is: 200.96\n",
      "enter the length of rectangle:64\n",
      "enter the breadth of rectangle:23\n",
      "Area of rectangle is: 1472.0\n",
      "Perimter of rectangle is: 174.0\n",
      "enter the base of right angled triangle:26\n",
      "enter the height of right angled triangle:34\n",
      "Area of triangle is: 442.0\n",
      "Perimter of right angled triangle is: 102.80186911806538\n"
     ]
    }
   ],
   "source": [
    "\n",
    "import math\n",
    "def area_square(a):\n",
    "    area1=float(a*a);\n",
    "    print(\"Area of square is:\",area1)\n",
    "def area_circle(r):\n",
    "    area2=float(3.14*r*r);\n",
    "    print(\"Area of circle is:\",area2)\n",
    "\n",
    "    \n",
    "def area_rectangle(a,b):\n",
    "    area3=float(a*b);\n",
    "    print(\"Area of rectangle is:\",area3)\n",
    "\n",
    "    \n",
    "def area_triangle(x,y):\n",
    "    area4=float((x*y)/2);\n",
    "    print(\"Area of triangle is:\",area4)\n",
    "\n",
    "\n",
    "def peri_square(a):\n",
    "    peri1=float(4*a);\n",
    "    print(\"Perimeter of square is:\",peri1)\n",
    "\n",
    "\n",
    "def peri_circle(r):\n",
    "    peri2=float(2*3.14*r);\n",
    "    print(\"Perimter of circle is:\",peri2)\n",
    "\n",
    "\n",
    "def peri_triangle(a,b):\n",
    "    hypotenuse=float(math.sqrt(a*a+b*b))\n",
    "    peri3=float(a+b+hypotenuse)\n",
    "    print(\"Perimter of right angled triangle is:\",peri3)\n",
    "\n",
    "    \n",
    "def peri_rectangle(a,b):\n",
    "    peri4=float(2*(a+b))\n",
    "    print(\"Perimter of rectangle is:\",peri4)\n",
    "\n",
    "\n",
    "side=float(input(\"enter the side of square:\"))\n",
    "area_square(side)\n",
    "print()\n",
    "\n",
    "peri_square(side)\n",
    "radius=float(input(\"enter the radius of circle:\"))\n",
    "area_circle(radius)\n",
    "peri_circle(radius)\n",
    "\n",
    "length=float(input(\"enter the length of rectangle:\"))\n",
    "breadth=float(input(\"enter the breadth of rectangle:\"))\n",
    "area_rectangle(length,breadth)\n",
    "peri_rectangle(length,breadth)\n",
    "\n",
    "\n",
    "base=float(input(\"enter the base of right angled triangle:\"))\n",
    "height=float(input(\"enter the height of right angled triangle:\"))\n",
    "area_triangle(base,height)\n",
    "peri_triangle(base,height)"
   ]
  },
  {
   "cell_type": "markdown",
   "id": "80ed4935",
   "metadata": {},
   "source": [
    "# 3Q"
   ]
  },
  {
   "cell_type": "code",
   "execution_count": 18,
   "id": "927efc83",
   "metadata": {},
   "outputs": [],
   "source": [
    "class Student:\n",
    "    def stu_details (self):\n",
    "        self.Rollno = int(input(\"Enter Rollno:- \"))\n",
    "        self.Sname = str(input(\"Enter the Sname:- \"))\n",
    "        self.Branch = str(input(\"Enter the Branch:- \"))\n",
    "\n",
    "    def __del__(self,other):\n",
    "        return Student(new_value)\n",
    "\n",
    "    def stu_info (self):\n",
    "\n",
    "        print(\"Enter Rollno:- \",self.Rollno)\n",
    "        print(\"Enter the Sname:- \",self.Sname)\n",
    "        print(\"Enter the Branch:- \",self.Branch)\n",
    "    \n",
    "    "
   ]
  },
  {
   "cell_type": "code",
   "execution_count": 14,
   "id": "f0811be8",
   "metadata": {},
   "outputs": [
    {
     "name": "stdout",
     "output_type": "stream",
     "text": [
      "Enter Rollno:- 12\n",
      "Enter the Sname:- ravi\n",
      "Enter the Branch:- M.tech\n"
     ]
    }
   ],
   "source": [
    "obj = Student()\n",
    "obj.stu_details()"
   ]
  },
  {
   "cell_type": "code",
   "execution_count": 15,
   "id": "9e74e1f8",
   "metadata": {},
   "outputs": [
    {
     "name": "stdout",
     "output_type": "stream",
     "text": [
      "Enter Rollno:-  12\n",
      "Enter the Sname:-  ravi\n",
      "Enter the Branch:-  M.tech\n"
     ]
    }
   ],
   "source": [
    "obj.stu_info()"
   ]
  },
  {
   "cell_type": "markdown",
   "id": "85a39805",
   "metadata": {},
   "source": [
    "# 4Q"
   ]
  },
  {
   "cell_type": "code",
   "execution_count": 72,
   "id": "238c0551",
   "metadata": {},
   "outputs": [
    {
     "name": "stdout",
     "output_type": "stream",
     "text": [
      "Total number of objects created:  3\n",
      "Student data\n",
      "Ankit Rai 22 years old\n",
      "Aishwarya 21 years old\n",
      "Shaurya 21 years old\n",
      "Modify the data\n",
      "Suresh 23 years old\n",
      "Ramesh 24 years old\n",
      "Ravi 25 years old\n"
     ]
    }
   ],
   "source": [
    "class Student :\n",
    "\n",
    "    \n",
    "    counter = 0\n",
    "\n",
    "   \n",
    "    def __init__(self,name,age) :\n",
    "\n",
    "        \n",
    "        self.name = name\n",
    "        self.age = age\n",
    "\n",
    "       \n",
    "        Student.counter += 1\n",
    "\n",
    "    \n",
    "    def printDetails(self) :\n",
    "        print(self.name,self.age,\"years old\")\n",
    "\n",
    "    def modify(self) :\n",
    "        print(self.name,self.age,\"years old\")\n",
    "\n",
    "\n",
    "\n",
    "student1 = Student('Ankit Rai',22)\n",
    "student2 = Student('Aishwarya',21)\n",
    "student3 = Student('Shaurya',21)\n",
    "\n",
    "\n",
    "print(\"Total number of objects created: \",Student.counter)\n",
    "\n",
    "print(\"Student data\")\n",
    "\n",
    "Student.printDetails(student1)\n",
    "Student.printDetails(student2)\n",
    "Student.printDetails(student3)\n",
    "\n",
    "print(\"Modify the data\")\n",
    "student1 = Student('Suresh',23)\n",
    "student2 = Student('Ramesh',24)\n",
    "student3 = Student('Ravi',25)\n",
    "\n",
    "\n",
    "Student.modify(student1)\n",
    "Student.modify(student2)\n",
    "Student.modify(student3)\n",
    "\n"
   ]
  },
  {
   "cell_type": "markdown",
   "id": "3cac4a80",
   "metadata": {},
   "source": [
    "# 5Q"
   ]
  },
  {
   "cell_type": "code",
   "execution_count": 83,
   "id": "f6f8f268",
   "metadata": {},
   "outputs": [
    {
     "name": "stdout",
     "output_type": "stream",
     "text": [
      "RollNo:- 101 \n",
      "Student Name Ravi\n",
      "['__annotations__', '__builtins__', '__call__', '__class__', '__closure__', '__code__', '__defaults__', '__delattr__', '__dict__', '__dir__', '__doc__', '__eq__', '__format__', '__ge__', '__get__', '__getattribute__', '__getstate__', '__globals__', '__gt__', '__hash__', '__init__', '__init_subclass__', '__kwdefaults__', '__le__', '__lt__', '__module__', '__name__', '__ne__', '__new__', '__qualname__', '__reduce__', '__reduce_ex__', '__repr__', '__setattr__', '__sizeof__', '__str__', '__subclasshook__']\n",
      "{}\n",
      "RollNo:- 102 \n",
      "Student Name Ravi\n"
     ]
    }
   ],
   "source": [
    "def Student():\n",
    "    global x,y\n",
    "    x = 101\n",
    "    y = \"Ravi\"\n",
    "Student()\n",
    "\n",
    "print(\"RollNo:-\",x,\"\\nStudent Name\",y)\n",
    "print(dir(Student))\n",
    "def Student1():\n",
    "    global x\n",
    "    x = 102\n",
    "    y = \"Ramesh\"\n",
    "Student1()\n",
    "print(vars(Student1))\n",
    "print(\"RollNo:-\",x,\"\\nStudent Name\",y)"
   ]
  },
  {
   "cell_type": "markdown",
   "id": "f0ef4c93",
   "metadata": {},
   "source": [
    "# 6Q"
   ]
  },
  {
   "cell_type": "code",
   "execution_count": 88,
   "id": "5a3b148b",
   "metadata": {},
   "outputs": [
    {
     "name": "stdout",
     "output_type": "stream",
     "text": [
      "Enter the date in format 'dd/mm/yy' : 05/08/2000\n",
      "Input date is valid!\n"
     ]
    }
   ],
   "source": [
    "import datetime\n",
    "\n",
    "inputDate = input(\"Enter the date in format 'dd/mm/yy' : \")\n",
    "day,month,year = inputDate.split('/')\n",
    "\n",
    "isValidDate = True\n",
    "try :\n",
    "    datetime.datetime(int(year),int(month),int(day))\n",
    "except ValueError :\n",
    "    isValidDate = False\n",
    "\n",
    "if(isValidDate) :\n",
    "    print (\"Input date is valid!\")\n",
    "else :\n",
    "    print (\"Input date is invalid!\")"
   ]
  },
  {
   "cell_type": "markdown",
   "id": "d051672a",
   "metadata": {},
   "source": [
    "# 7Q"
   ]
  },
  {
   "cell_type": "code",
   "execution_count": 97,
   "id": "1ff170dd",
   "metadata": {},
   "outputs": [
    {
     "name": "stdout",
     "output_type": "stream",
     "text": [
      "3\n",
      "GeeksFor\n",
      "12\n",
      "GeeksGeeksGeeksGeeks\n",
      "your object is a list !\n",
      "your object is not a list\n"
     ]
    }
   ],
   "source": [
    "ini_list1=[1,2,3,4,5,]\n",
    "ini_list2='12345'\n",
    "\n",
    "print(1 + 2)\n",
    "\n",
    "print(\"Geeks\"+\"For\") \n",
    "\n",
    "print(3 * 4)\n",
    "\n",
    "print(\"Geeks\"*4)\n",
    "if isinstance(ini_list1,list):\n",
    "    print(\"your object is a list !\")\n",
    "else:\n",
    "    print(\"your object is not a list\")\n",
    "if isinstance(ini_list2,list):\n",
    "    print(\"your object is a list\")\n",
    "else:\n",
    "    print(\"your object is not a list\")\n",
    "    "
   ]
  },
  {
   "cell_type": "markdown",
   "id": "9c9f79ca",
   "metadata": {},
   "source": [
    "# 8Q"
   ]
  },
  {
   "cell_type": "code",
   "execution_count": 106,
   "id": "b40ef079",
   "metadata": {},
   "outputs": [
    {
     "name": "stdout",
     "output_type": "stream",
     "text": [
      "The real part of complex number is : 5.0\n",
      "The imaginary part of complex number is : 3.0\n"
     ]
    }
   ],
   "source": [
    "import cmath\n",
    "\n",
    "\n",
    "x = 5\n",
    "y = 3\n",
    "\n",
    "\n",
    "z = complex(x,y);\n",
    "\n",
    "\n",
    "print (\"The real part of complex number is : \",end=\"\")\n",
    "print (z.real)\n",
    "\n",
    "print (\"The imaginary part of complex number is : \",end=\"\")\n",
    "print (z.imag)\n"
   ]
  },
  {
   "cell_type": "markdown",
   "id": "4d6383ea",
   "metadata": {},
   "source": [
    "# 9Q"
   ]
  },
  {
   "cell_type": "code",
   "execution_count": 108,
   "id": "41392e6b",
   "metadata": {},
   "outputs": [
    {
     "name": "stdout",
     "output_type": "stream",
     "text": [
      "Student Name: Rehan\n",
      "Marks: 70\n",
      "Student Name: Suresh\n",
      "Marks: 75\n"
     ]
    }
   ],
   "source": [
    "class Student:\n",
    "    student_name = 'Rehan'\n",
    "    marks = 70  \n",
    "print(f\"Student Name: {getattr(Student, 'student_name')}\")\n",
    "print(f\"Marks: {getattr(Student, 'marks')}\")\n",
    "setattr(Student, 'student_name', 'Suresh')\n",
    "setattr(Student, 'marks', 75) \n",
    "print(f\"Student Name: {getattr(Student, 'student_name')}\")\n",
    "print(f\"Marks: {getattr(Student, 'marks')}\")\n"
   ]
  },
  {
   "cell_type": "markdown",
   "id": "fc4348d7",
   "metadata": {},
   "source": [
    "# 10Q"
   ]
  },
  {
   "cell_type": "code",
   "execution_count": 109,
   "id": "1b1037bf",
   "metadata": {},
   "outputs": [
    {
     "name": "stdout",
     "output_type": "stream",
     "text": [
      "Ramesh False\n",
      "Suresh True\n"
     ]
    }
   ],
   "source": [
    "class Student(object):\n",
    "    def __init__(self, name):\n",
    "        self.name = name \n",
    "\n",
    "\n",
    "    def Stu_Name(self):\n",
    "        return self.name \n",
    "\n",
    "\n",
    "    def Student1(self):\n",
    "        return False\n",
    "\n",
    "\n",
    "class Student2(Student):\n",
    "    def Student1(self):\n",
    "        return True\n",
    "\n",
    "stu_1 = Student(\"Ramesh\") \n",
    "print(stu_1.Stu_Name(), stu_1.Student1()) \n",
    "\n",
    "stu_1 = Student2(\"Suresh\") \n",
    "print(stu_1.Stu_Name(), stu_1.Student1()) \n"
   ]
  },
  {
   "cell_type": "code",
   "execution_count": null,
   "id": "f6c533b2",
   "metadata": {},
   "outputs": [],
   "source": []
  },
  {
   "cell_type": "code",
   "execution_count": null,
   "id": "f0380df3",
   "metadata": {},
   "outputs": [],
   "source": []
  },
  {
   "cell_type": "code",
   "execution_count": null,
   "id": "bc8c317c",
   "metadata": {},
   "outputs": [],
   "source": []
  },
  {
   "cell_type": "code",
   "execution_count": null,
   "id": "aa1966c9",
   "metadata": {},
   "outputs": [],
   "source": []
  }
 ],
 "metadata": {
  "kernelspec": {
   "display_name": "Python 3 (ipykernel)",
   "language": "python",
   "name": "python3"
  },
  "language_info": {
   "codemirror_mode": {
    "name": "ipython",
    "version": 3
   },
   "file_extension": ".py",
   "mimetype": "text/x-python",
   "name": "python",
   "nbconvert_exporter": "python",
   "pygments_lexer": "ipython3",
   "version": "3.11.4"
  }
 },
 "nbformat": 4,
 "nbformat_minor": 5
}
