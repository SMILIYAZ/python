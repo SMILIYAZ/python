{
 "cells": [
  {
   "cell_type": "markdown",
   "id": "9a787103",
   "metadata": {},
   "source": [
    "# 1Q"
   ]
  },
  {
   "cell_type": "code",
   "execution_count": 3,
   "id": "6be83629",
   "metadata": {},
   "outputs": [
    {
     "name": "stdout",
     "output_type": "stream",
     "text": [
      "Input lengths of shorter triangle sides:\n",
      "a: 3\n",
      "b: 4\n",
      "The length of the hypotenuse is: 5.0\n"
     ]
    }
   ],
   "source": [
    "def findHypotenuse(side1, side2): \n",
    "  \n",
    "    h = (((side1 * side1) + (side2 * side2))**(1/2)); \n",
    "    return h; \n",
    "print(\"Input lengths of shorter triangle sides:\")  \n",
    "side1 = float(input(\"a: \")); \n",
    "side2 = float(input(\"b: \")); \n",
    "  \n",
    "print(\"The length of the hypotenuse is:\",findHypotenuse(side1, side2));"
   ]
  },
  {
   "cell_type": "markdown",
   "id": "332af1c7",
   "metadata": {},
   "source": [
    "# 2Q"
   ]
  },
  {
   "cell_type": "code",
   "execution_count": 2,
   "id": "78924b55",
   "metadata": {},
   "outputs": [
    {
     "name": "stdout",
     "output_type": "stream",
     "text": [
      "Enter the number of items purchased: 10.95\n",
      "Shipping charge: $39.80499999999999\n"
     ]
    }
   ],
   "source": [
    "def shipping_charge(num_items):\n",
    "    if num_items <= 0:\n",
    "        return 0\n",
    "\n",
    "    elif num_items == 1:\n",
    "        return 10.95\n",
    "    else:\n",
    "        return 10.95 + (num_items-1) * 2.9\n",
    "num_items = float(input(\"Enter the number of items purchased: \"))\n",
    "\n",
    "shipping_cost = shipping_charge(num_items)\n",
    "\n",
    "print(\"Shipping charge: $\" + str(shipping_cost))"
   ]
  },
  {
   "cell_type": "markdown",
   "id": "b5ba3c6c",
   "metadata": {},
   "source": [
    "# 3Q"
   ]
  },
  {
   "cell_type": "code",
   "execution_count": 9,
   "id": "a6aeff35",
   "metadata": {},
   "outputs": [
    {
     "name": "stdout",
     "output_type": "stream",
     "text": [
      "Input first number: 30\n",
      "Input second number: 70\n",
      "Input third number: 85\n",
      "The median is 70.0\n"
     ]
    }
   ],
   "source": [
    "a = float(input(\"Input first number: \"))\n",
    "\n",
    "b = float(input(\"Input second number: \"))\n",
    "\n",
    "c = float(input(\"Input third number: \"))\n",
    "if a > b:\n",
    "    \n",
    "    if a < c:\n",
    "        median = a\n",
    "    elif b > c:\n",
    "        median = b\n",
    "    else:\n",
    "        median = c\n",
    "else:\n",
    "    if a > c:\n",
    "        median = a\n",
    "    elif b < c:\n",
    "        median = b\n",
    "    else:\n",
    "        median = c\n",
    "\n",
    "print(\"The median is\", median)\n"
   ]
  },
  {
   "cell_type": "markdown",
   "id": "311f29e2",
   "metadata": {},
   "source": [
    "# 4Q"
   ]
  },
  {
   "cell_type": "code",
   "execution_count": 29,
   "id": "ddf5f141",
   "metadata": {},
   "outputs": [
    {
     "name": "stdout",
     "output_type": "stream",
     "text": [
      "Enter side:1\n",
      "Enter side:3\n",
      "Enter side:2\n",
      "Triangle can not be formed with 1 3 2 as sides\n"
     ]
    }
   ],
   "source": [
    "def triangle (a,b,c):\n",
    "    if (a+b>c and a+c>b and b+c>a):\n",
    "        print(\"Triangle can be formed with\",a,b,c,\"as sides.\")\n",
    "    else:\n",
    "        print(\"Triangle can not be formed with\",a,b,c,\"as sides\")\n",
    "a = int(input (\"Enter side:\")) \n",
    "b = int(input (\"Enter side:\")) \n",
    "c = int(input (\"Enter side:\"))\n",
    "\n",
    "triangle(a,b,c)"
   ]
  },
  {
   "cell_type": "markdown",
   "id": "0a1aed85",
   "metadata": {},
   "source": [
    "# 5Q"
   ]
  },
  {
   "cell_type": "code",
   "execution_count": 36,
   "id": "df5677f3",
   "metadata": {},
   "outputs": [
    {
     "name": "stdout",
     "output_type": "stream",
     "text": [
      "Enter a string: 10\n",
      "That string represents an integer.\n"
     ]
    }
   ],
   "source": [
    "def isInteger(s):\n",
    "  s = s.strip()\n",
    "  if (s[0] == \"+\" or s[0] == \"-\") and s[1:].isdigit():\n",
    "    return True\n",
    "  if s.isdigit():\n",
    "    return True\n",
    "  return False \n",
    "def main():\n",
    "  s = input(\"Enter a string: \")\n",
    "  if isInteger(s):\n",
    "    print(\"That string represents an integer.\")\n",
    "  else:\n",
    "    print(\"That string does not represent an integer.\")\n",
    "\n",
    "if __name__ == \"__main__\":\n",
    "  main()\n"
   ]
  },
  {
   "cell_type": "markdown",
   "id": "89a1f4cb",
   "metadata": {},
   "source": [
    "# 6Q"
   ]
  },
  {
   "cell_type": "code",
   "execution_count": 25,
   "id": "274c3130",
   "metadata": {},
   "outputs": [
    {
     "name": "stdout",
     "output_type": "stream",
     "text": [
      "Enter a positive number:10\n"
     ]
    },
    {
     "data": {
      "text/plain": [
       "7"
      ]
     },
     "execution_count": 25,
     "metadata": {},
     "output_type": "execute_result"
    }
   ],
   "source": [
    "num = int(input(\"Enter a positive number:\"))   \n",
    "\n",
    "import math\n",
    "\n",
    "def nextprime(n):\n",
    "    if n < 0:\n",
    "        raise ValueError\n",
    "  \n",
    "    for next in range(n + 1, n +200):\n",
    "        if next > 1:\n",
    "            for i in range(2, next):\n",
    "                if (next % i) == 0:\n",
    "                    break\n",
    "                else:\n",
    "                    return next\n",
    "\n",
    "nextprime(5)"
   ]
  },
  {
   "cell_type": "markdown",
   "id": "763654b8",
   "metadata": {},
   "source": [
    "# 7Q"
   ]
  },
  {
   "cell_type": "code",
   "execution_count": 15,
   "id": "34edb05f",
   "metadata": {},
   "outputs": [
    {
     "name": "stdout",
     "output_type": "stream",
     "text": [
      "Enter your password:- Shaik@1998\n",
      "its Good Password\n"
     ]
    }
   ],
   "source": [
    "import re\n",
    "p = input(\"Enter your password:- \")\n",
    "x = True\n",
    "while x:  \n",
    "    \n",
    "    if (len(p) < 6 or len(p) > 12):\n",
    "        break\n",
    "    elif not re.search(\"[a-z]\", p):\n",
    "        break\n",
    "    elif not re.search(\"[0-9]\", p):\n",
    "        break\n",
    "    elif not re.search(\"[A-Z]\", p):\n",
    "        break\n",
    "    elif not re.search(\"[$#@]\", p):\n",
    "        break\n",
    "    elif re.search(\"\\s\", p):\n",
    "        break\n",
    "    else:\n",
    "        print(\"its Good Password\")\n",
    "        x = False\n",
    "        break\n",
    "if x:\n",
    "    print(\"Its Not Good Password\")"
   ]
  },
  {
   "cell_type": "markdown",
   "id": "ab539b64",
   "metadata": {},
   "source": [
    "# 8Q"
   ]
  },
  {
   "cell_type": "code",
   "execution_count": 27,
   "id": "ceccddc7",
   "metadata": {},
   "outputs": [
    {
     "name": "stdout",
     "output_type": "stream",
     "text": [
      "If you want to exit enter a blank line otherwise enter a value : 74\n",
      "If you want to exit enter a blank line otherwise enter a value : 65\n",
      "If you want to exit enter a blank line otherwise enter a value : 85\n",
      "If you want to exit enter a blank line otherwise enter a value : \n",
      "Total of all the values =  224.0\n"
     ]
    }
   ],
   "source": [
    "def fun():\n",
    "    n = input(\"If you want to exit enter a blank line otherwise enter a value : \")\n",
    "    if n==\"\":\n",
    "        return 0.0\n",
    "    else:\n",
    "        n=int(n)\n",
    "        return(n+fun())\n",
    "print(\"Total of all the values = \", fun())"
   ]
  },
  {
   "cell_type": "markdown",
   "id": "7f650ac8",
   "metadata": {},
   "source": [
    "# 9Q"
   ]
  },
  {
   "cell_type": "code",
   "execution_count": 33,
   "id": "7cc2b0fa",
   "metadata": {},
   "outputs": [
    {
     "name": "stdout",
     "output_type": "stream",
     "text": [
      "Enter string:mom\n",
      "String is a palindrome!\n"
     ]
    }
   ],
   "source": [
    "def is_palindrome(s):\n",
    "    if len(s) < 1:\n",
    "        return True\n",
    "    else:\n",
    "        if s[0] == s[-1]:\n",
    "            return is_palindrome(s[1:-1])\n",
    "        else:\n",
    "            return False\n",
    "a=str(input(\"Enter string:\"))\n",
    "if(is_palindrome(a)==True):\n",
    "    print(\"String is a palindrome!\")\n",
    "else:\n",
    "    print(\"String isn't a palindrome!\")"
   ]
  },
  {
   "cell_type": "markdown",
   "id": "511c78b6",
   "metadata": {},
   "source": [
    "# 10Q"
   ]
  },
  {
   "cell_type": "code",
   "execution_count": 47,
   "id": "5d90b4a1",
   "metadata": {},
   "outputs": [
    {
     "name": "stdout",
     "output_type": "stream",
     "text": [
      "Apples\n",
      "Apples and Orange\n",
      "Apples Orange and Banana\n",
      "Apples Orange Banana and Lemon\n"
     ]
    }
   ],
   "source": [
    "a1='Apples'\n",
    "a2='Orange'\n",
    "a3='Banana'\n",
    "a4='Lemon'\n",
    "print(a1)\n",
    "print(a1,'and',a2)\n",
    "print(a1,a2,'and',a3)\n",
    "print(a1,a2,a3,'and',a4)\n"
   ]
  },
  {
   "cell_type": "code",
   "execution_count": null,
   "id": "6c98e123",
   "metadata": {},
   "outputs": [],
   "source": []
  },
  {
   "cell_type": "code",
   "execution_count": null,
   "id": "74bfd01d",
   "metadata": {},
   "outputs": [],
   "source": []
  },
  {
   "cell_type": "code",
   "execution_count": null,
   "id": "e8758430",
   "metadata": {},
   "outputs": [],
   "source": []
  },
  {
   "cell_type": "code",
   "execution_count": null,
   "id": "879a3c9e",
   "metadata": {},
   "outputs": [],
   "source": []
  },
  {
   "cell_type": "code",
   "execution_count": null,
   "id": "76e05c57",
   "metadata": {},
   "outputs": [],
   "source": []
  },
  {
   "cell_type": "code",
   "execution_count": null,
   "id": "ba26ee46",
   "metadata": {},
   "outputs": [],
   "source": []
  },
  {
   "cell_type": "code",
   "execution_count": null,
   "id": "5e6359e1",
   "metadata": {},
   "outputs": [],
   "source": []
  },
  {
   "cell_type": "code",
   "execution_count": null,
   "id": "13842714",
   "metadata": {},
   "outputs": [],
   "source": []
  },
  {
   "cell_type": "code",
   "execution_count": null,
   "id": "1f324f8a",
   "metadata": {},
   "outputs": [],
   "source": []
  },
  {
   "cell_type": "code",
   "execution_count": null,
   "id": "3b469720",
   "metadata": {},
   "outputs": [],
   "source": []
  },
  {
   "cell_type": "code",
   "execution_count": null,
   "id": "4b234b56",
   "metadata": {},
   "outputs": [],
   "source": []
  },
  {
   "cell_type": "code",
   "execution_count": null,
   "id": "7b05fa9d",
   "metadata": {},
   "outputs": [],
   "source": []
  },
  {
   "cell_type": "code",
   "execution_count": null,
   "id": "1ed9d34f",
   "metadata": {},
   "outputs": [],
   "source": []
  },
  {
   "cell_type": "code",
   "execution_count": null,
   "id": "413c4a99",
   "metadata": {},
   "outputs": [],
   "source": []
  },
  {
   "cell_type": "code",
   "execution_count": null,
   "id": "55ac4a33",
   "metadata": {},
   "outputs": [],
   "source": []
  },
  {
   "cell_type": "code",
   "execution_count": null,
   "id": "2fa02407",
   "metadata": {},
   "outputs": [],
   "source": []
  },
  {
   "cell_type": "code",
   "execution_count": null,
   "id": "60203c84",
   "metadata": {},
   "outputs": [],
   "source": []
  },
  {
   "cell_type": "code",
   "execution_count": null,
   "id": "20cb0d64",
   "metadata": {},
   "outputs": [],
   "source": []
  },
  {
   "cell_type": "code",
   "execution_count": null,
   "id": "475c3c17",
   "metadata": {},
   "outputs": [],
   "source": []
  },
  {
   "cell_type": "code",
   "execution_count": null,
   "id": "89b5e9b4",
   "metadata": {},
   "outputs": [],
   "source": []
  },
  {
   "cell_type": "code",
   "execution_count": null,
   "id": "8be870c3",
   "metadata": {},
   "outputs": [],
   "source": []
  }
 ],
 "metadata": {
  "kernelspec": {
   "display_name": "Python 3 (ipykernel)",
   "language": "python",
   "name": "python3"
  },
  "language_info": {
   "codemirror_mode": {
    "name": "ipython",
    "version": 3
   },
   "file_extension": ".py",
   "mimetype": "text/x-python",
   "name": "python",
   "nbconvert_exporter": "python",
   "pygments_lexer": "ipython3",
   "version": "3.11.4"
  }
 },
 "nbformat": 4,
 "nbformat_minor": 5
}
